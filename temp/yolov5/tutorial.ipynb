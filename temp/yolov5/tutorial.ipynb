{
 "cells": [
  {
   "cell_type": "markdown",
   "metadata": {
    "id": "7mGmQbAO5pQb"
   },
   "source": [
    "# Setup\n",
    "\n",
    "Clone repo, install dependencies and check PyTorch and GPU."
   ]
  },
  {
   "cell_type": "code",
   "execution_count": null,
   "metadata": {
    "colab": {
     "base_uri": "https://localhost:8080/"
    },
    "id": "wbvMlHd_QwMG",
    "outputId": "ae8805a9-ce15-4e1c-f6b4-baa1c1033f56"
   },
   "outputs": [],
   "source": [
    "!git clone https://github.com/ultralytics/yolov5  # clone repo\n",
    "%cd yolov5\n",
    "%pip install -qr requirements.txt  # install dependencies\n",
    "\n",
    "import torch\n",
    "from IPython.display import Image, clear_output  # to display images\n",
    "\n",
    "clear_output()\n",
    "print('Setup complete. Using torch %s %s' % (torch.__version__, torch.cuda.get_device_properties(0) if torch.cuda.is_available() else 'CPU'))"
   ]
  },
  {
   "cell_type": "code",
   "execution_count": null,
   "metadata": {},
   "outputs": [],
   "source": [
    "!pip install pycocotools"
   ]
  },
  {
   "cell_type": "code",
   "execution_count": null,
   "metadata": {},
   "outputs": [],
   "source": [
    "!pip install thop"
   ]
  },
  {
   "cell_type": "markdown",
   "metadata": {
    "id": "4JnkELT0cIJg"
   },
   "source": [
    "# 1. Inference\n",
    "\n",
    "`detect.py` runs inference on a variety of sources, downloading models automatically from the [latest YOLOv5 release](https://github.com/ultralytics/yolov5/releases)."
   ]
  },
  {
   "cell_type": "code",
   "execution_count": 2,
   "metadata": {
    "colab": {
     "base_uri": "https://localhost:8080/",
     "height": 534
    },
    "id": "zR9ZbuQCH7FX",
    "outputId": "c9a308f7-2216-4805-8003-eca8dd0dc30d",
    "scrolled": false
   },
   "outputs": [
    {
     "name": "stdout",
     "output_type": "stream",
     "text": [
      "Namespace(agnostic_nms=False, augment=False, classes=None, conf_thres=0.25, device='', exist_ok=False, img_size=640, iou_thres=0.45, name='test_result', project='runs/detect', save_conf=False, save_txt=False, source='test_images/images', update=False, view_img=False, weights=['detect_3.pt'])\n",
      "Fusing layers... \n",
      "image 1/187 C:\\Users\\user\\Desktop\\temp\\yolov5\\test_images\\images\\002e2619408676c5_jpg.rf.7c748f1a05457b109e308c704ac2f444.jpg: runs\\detect\\test_result3\\002e2619408676c5_jpg.rf.7c748f1a05457b109e308c704ac2f444.jpg runs\\detect\\test_result3\\labels\\002e2619408676c5_jpg.rf.7c748f1a05457b109e308c704ac2f444\n",
      "640x640 2 Gloves, Done. (0.531s)\n",
      "image 2/187 C:\\Users\\user\\Desktop\\temp\\yolov5\\test_images\\images\\0039a039cee66741_jpg.rf.1f22037aca567e9bd018d8c12333cd10.jpg: runs\\detect\\test_result3\\0039a039cee66741_jpg.rf.1f22037aca567e9bd018d8c12333cd10.jpg runs\\detect\\test_result3\\labels\\0039a039cee66741_jpg.rf.1f22037aca567e9bd018d8c12333cd10\n",
      "640x640 Done. (0.513s)\n",
      "image 3/187 C:\\Users\\user\\Desktop\\temp\\yolov5\\test_images\\images\\01cea4e9337f8380_jpg.rf.916305adb55d3dd89734193577996833.jpg: runs\\detect\\test_result3\\01cea4e9337f8380_jpg.rf.916305adb55d3dd89734193577996833.jpg runs\\detect\\test_result3\\labels\\01cea4e9337f8380_jpg.rf.916305adb55d3dd89734193577996833\n",
      "640x640 2 Gloves, Done. (0.541s)\n",
      "image 4/187 C:\\Users\\user\\Desktop\\temp\\yolov5\\test_images\\images\\0da239b0cea06678_jpg.rf.d72d43fe3bcfd8450399bdca73eef157.jpg: runs\\detect\\test_result3\\0da239b0cea06678_jpg.rf.d72d43fe3bcfd8450399bdca73eef157.jpg runs\\detect\\test_result3\\labels\\0da239b0cea06678_jpg.rf.d72d43fe3bcfd8450399bdca73eef157\n",
      "640x640 1 Glove, Done. (0.536s)\n",
      "image 5/187 C:\\Users\\user\\Desktop\\temp\\yolov5\\test_images\\images\\13586490ede9bd47_jpg.rf.c856ee10835b09f08b968b8f64df75cf.jpg: runs\\detect\\test_result3\\13586490ede9bd47_jpg.rf.c856ee10835b09f08b968b8f64df75cf.jpg runs\\detect\\test_result3\\labels\\13586490ede9bd47_jpg.rf.c856ee10835b09f08b968b8f64df75cf\n",
      "640x640 1 Glove, 2 Helmets, Done. (0.555s)\n",
      "image 6/187 C:\\Users\\user\\Desktop\\temp\\yolov5\\test_images\\images\\172ceccd98f155f2_jpg.rf.4d9ceef0b9a76ee0d557feb5c8dbab2e.jpg: runs\\detect\\test_result3\\172ceccd98f155f2_jpg.rf.4d9ceef0b9a76ee0d557feb5c8dbab2e.jpg runs\\detect\\test_result3\\labels\\172ceccd98f155f2_jpg.rf.4d9ceef0b9a76ee0d557feb5c8dbab2e\n",
      "640x640 4 Gloves, Done. (0.554s)\n",
      "image 7/187 C:\\Users\\user\\Desktop\\temp\\yolov5\\test_images\\images\\234c371005327a25_jpg.rf.852c614796193d77e0b4467def2a3304.jpg: runs\\detect\\test_result3\\234c371005327a25_jpg.rf.852c614796193d77e0b4467def2a3304.jpg runs\\detect\\test_result3\\labels\\234c371005327a25_jpg.rf.852c614796193d77e0b4467def2a3304\n",
      "640x640 4 Gloves, 3 Helmets, Done. (0.556s)\n",
      "image 8/187 C:\\Users\\user\\Desktop\\temp\\yolov5\\test_images\\images\\3b0fbdb0be44cc20_jpg.rf.ee9014ae9b53c383b387e31f58a40376.jpg: runs\\detect\\test_result3\\3b0fbdb0be44cc20_jpg.rf.ee9014ae9b53c383b387e31f58a40376.jpg runs\\detect\\test_result3\\labels\\3b0fbdb0be44cc20_jpg.rf.ee9014ae9b53c383b387e31f58a40376\n",
      "640x640 4 Gloves, Done. (0.524s)\n",
      "image 9/187 C:\\Users\\user\\Desktop\\temp\\yolov5\\test_images\\images\\417f4472610542e6_jpg.rf.5c7e2bc97f1d5ce2f600660baa61e2a5.jpg: runs\\detect\\test_result3\\417f4472610542e6_jpg.rf.5c7e2bc97f1d5ce2f600660baa61e2a5.jpg runs\\detect\\test_result3\\labels\\417f4472610542e6_jpg.rf.5c7e2bc97f1d5ce2f600660baa61e2a5\n",
      "640x640 1 Helmet, Done. (0.531s)\n",
      "image 10/187 C:\\Users\\user\\Desktop\\temp\\yolov5\\test_images\\images\\4d8ea09c717641bd_jpg.rf.45d4ec771541db5eedcd4b18dd496d50.jpg: runs\\detect\\test_result3\\4d8ea09c717641bd_jpg.rf.45d4ec771541db5eedcd4b18dd496d50.jpg runs\\detect\\test_result3\\labels\\4d8ea09c717641bd_jpg.rf.45d4ec771541db5eedcd4b18dd496d50\n",
      "640x640 2 Gloves, 2 Helmets, 1 No glove, Done. (0.563s)\n",
      "image 11/187 C:\\Users\\user\\Desktop\\temp\\yolov5\\test_images\\images\\4e47936994f49995_jpg.rf.e898b57bb75954440f9271c28cced1a5.jpg: runs\\detect\\test_result3\\4e47936994f49995_jpg.rf.e898b57bb75954440f9271c28cced1a5.jpg runs\\detect\\test_result3\\labels\\4e47936994f49995_jpg.rf.e898b57bb75954440f9271c28cced1a5\n",
      "640x640 1 Glove, Done. (0.552s)\n",
      "image 12/187 C:\\Users\\user\\Desktop\\temp\\yolov5\\test_images\\images\\582a93540b8946f4_jpg.rf.fa3cf8350d66bca713094ea68fff8ff5.jpg: runs\\detect\\test_result3\\582a93540b8946f4_jpg.rf.fa3cf8350d66bca713094ea68fff8ff5.jpg runs\\detect\\test_result3\\labels\\582a93540b8946f4_jpg.rf.fa3cf8350d66bca713094ea68fff8ff5\n",
      "640x640 3 Gloves, 1 No glove, Done. (0.543s)\n",
      "image 13/187 C:\\Users\\user\\Desktop\\temp\\yolov5\\test_images\\images\\5900e53f12bf158e_jpg.rf.ae1dfa6ab3aed54d2c6b224918b5cf93.jpg: runs\\detect\\test_result3\\5900e53f12bf158e_jpg.rf.ae1dfa6ab3aed54d2c6b224918b5cf93.jpg runs\\detect\\test_result3\\labels\\5900e53f12bf158e_jpg.rf.ae1dfa6ab3aed54d2c6b224918b5cf93\n",
      "640x640 7 Gloves, Done. (0.545s)\n",
      "image 14/187 C:\\Users\\user\\Desktop\\temp\\yolov5\\test_images\\images\\5917156-construction-worker-wearing-protective-gloves-side-view_jpg.rf.fab4dbb9afa3f3e7a3fed4fac8d662e1.jpg: runs\\detect\\test_result3\\5917156-construction-worker-wearing-protective-gloves-side-view_jpg.rf.fab4dbb9afa3f3e7a3fed4fac8d662e1.jpg runs\\detect\\test_result3\\labels\\5917156-construction-worker-wearing-protective-gloves-side-view_jpg.rf.fab4dbb9afa3f3e7a3fed4fac8d662e1\n",
      "640x640 1 Glove, 1 Helmet, Done. (0.560s)\n",
      "image 15/187 C:\\Users\\user\\Desktop\\temp\\yolov5\\test_images\\images\\72f00364cfb1b28f_jpg.rf.d616c5b93344b31ce220867edaa5e51f.jpg: runs\\detect\\test_result3\\72f00364cfb1b28f_jpg.rf.d616c5b93344b31ce220867edaa5e51f.jpg runs\\detect\\test_result3\\labels\\72f00364cfb1b28f_jpg.rf.d616c5b93344b31ce220867edaa5e51f\n",
      "640x640 4 Gloves, Done. (0.564s)\n",
      "image 16/187 C:\\Users\\user\\Desktop\\temp\\yolov5\\test_images\\images\\7395fd537fe2c8cc_jpg.rf.71e80f7a2f1e4a34f6d144c7a9903e87.jpg: runs\\detect\\test_result3\\7395fd537fe2c8cc_jpg.rf.71e80f7a2f1e4a34f6d144c7a9903e87.jpg runs\\detect\\test_result3\\labels\\7395fd537fe2c8cc_jpg.rf.71e80f7a2f1e4a34f6d144c7a9903e87\n",
      "640x640 3 Gloves, Done. (0.559s)\n",
      "image 17/187 C:\\Users\\user\\Desktop\\temp\\yolov5\\test_images\\images\\75b3b8f70f1a2138_jpg.rf.3434f6f7e680a68b748bfeaf67dcf1b9.jpg: runs\\detect\\test_result3\\75b3b8f70f1a2138_jpg.rf.3434f6f7e680a68b748bfeaf67dcf1b9.jpg runs\\detect\\test_result3\\labels\\75b3b8f70f1a2138_jpg.rf.3434f6f7e680a68b748bfeaf67dcf1b9\n",
      "640x640 4 Gloves, Done. (0.569s)\n",
      "image 18/187 C:\\Users\\user\\Desktop\\temp\\yolov5\\test_images\\images\\848509d97e503697_jpg.rf.b2ebc6fdfb6f19858d1813aee01af9cd.jpg: runs\\detect\\test_result3\\848509d97e503697_jpg.rf.b2ebc6fdfb6f19858d1813aee01af9cd.jpg runs\\detect\\test_result3\\labels\\848509d97e503697_jpg.rf.b2ebc6fdfb6f19858d1813aee01af9cd"
     ]
    },
    {
     "name": "stderr",
     "output_type": "stream",
     "text": [
      "C:\\Users\\user\\anaconda3\\lib\\site-packages\\torch\\cuda\\__init__.py:52: UserWarning: CUDA initialization: The NVIDIA driver on your system is too old (found version 8000). Please update your GPU driver by downloading and installing a new version from the URL: http://www.nvidia.com/Download/index.aspx Alternatively, go to: https://pytorch.org to install a PyTorch version that has been compiled with your version of the CUDA driver. (Triggered internally at  ..\\c10\\cuda\\CUDAFunctions.cpp:100.)\n",
      "  return torch._C._cuda_getDeviceCount() > 0\n",
      "YOLOv5 v4.0-126-g886f1c0 torch 1.7.0 CPU\n",
      "\n",
      "Model Summary: 232 layers, 7260003 parameters, 0 gradients, 16.8 GFLOPS\n"
     ]
    },
    {
     "name": "stdout",
     "output_type": "stream",
     "text": [
      "\n",
      "640x640 4 Gloves, Done. (0.504s)\n",
      "image 19/187 C:\\Users\\user\\Desktop\\temp\\yolov5\\test_images\\images\\Mask116_jpeg_jpg.rf.b044e1f4e770b0eed0086b00a3dccc3a.jpg: runs\\detect\\test_result3\\Mask116_jpeg_jpg.rf.b044e1f4e770b0eed0086b00a3dccc3a.jpg runs\\detect\\test_result3\\labels\\Mask116_jpeg_jpg.rf.b044e1f4e770b0eed0086b00a3dccc3a\n",
      "640x640 1 Mask, Done. (0.512s)\n",
      "image 20/187 C:\\Users\\user\\Desktop\\temp\\yolov5\\test_images\\images\\Mask156_jpg.rf.c04b06296413fd03c80ebdb083fab2a8.jpg: runs\\detect\\test_result3\\Mask156_jpg.rf.c04b06296413fd03c80ebdb083fab2a8.jpg runs\\detect\\test_result3\\labels\\Mask156_jpg.rf.c04b06296413fd03c80ebdb083fab2a8\n",
      "640x640 1 Mask, Done. (0.533s)\n",
      "image 21/187 C:\\Users\\user\\Desktop\\temp\\yolov5\\test_images\\images\\Mask160_jpg.rf.aa9b5106807314cb19659ce80792210b.jpg: runs\\detect\\test_result3\\Mask160_jpg.rf.aa9b5106807314cb19659ce80792210b.jpg runs\\detect\\test_result3\\labels\\Mask160_jpg.rf.aa9b5106807314cb19659ce80792210b\n",
      "640x640 1 Mask, Done. (0.512s)\n",
      "image 22/187 C:\\Users\\user\\Desktop\\temp\\yolov5\\test_images\\images\\Mask170_jpeg_jpg.rf.698cf7bacdfb982641a15ee5d353941c.jpg: runs\\detect\\test_result3\\Mask170_jpeg_jpg.rf.698cf7bacdfb982641a15ee5d353941c.jpg runs\\detect\\test_result3\\labels\\Mask170_jpeg_jpg.rf.698cf7bacdfb982641a15ee5d353941c\n",
      "640x640 1 Mask, Done. (0.570s)\n",
      "image 23/187 C:\\Users\\user\\Desktop\\temp\\yolov5\\test_images\\images\\Mask173_jpg.rf.383b50fe17a9250b3dbd6f37b6ee1e7e.jpg: runs\\detect\\test_result3\\Mask173_jpg.rf.383b50fe17a9250b3dbd6f37b6ee1e7e.jpg runs\\detect\\test_result3\\labels\\Mask173_jpg.rf.383b50fe17a9250b3dbd6f37b6ee1e7e\n",
      "640x640 1 Glove, 1 Mask, Done. (0.715s)\n",
      "image 24/187 C:\\Users\\user\\Desktop\\temp\\yolov5\\test_images\\images\\Mask181_jpg.rf.b7a8023a5e0d3b4643fef635ed08025b.jpg: runs\\detect\\test_result3\\Mask181_jpg.rf.b7a8023a5e0d3b4643fef635ed08025b.jpg runs\\detect\\test_result3\\labels\\Mask181_jpg.rf.b7a8023a5e0d3b4643fef635ed08025b\n",
      "640x640 1 Mask, Done. (0.683s)\n",
      "image 25/187 C:\\Users\\user\\Desktop\\temp\\yolov5\\test_images\\images\\Mask183_jpg.rf.8d53a9ce337cc4373fac10f48fbc46aa.jpg: runs\\detect\\test_result3\\Mask183_jpg.rf.8d53a9ce337cc4373fac10f48fbc46aa.jpg runs\\detect\\test_result3\\labels\\Mask183_jpg.rf.8d53a9ce337cc4373fac10f48fbc46aa\n",
      "640x640 2 Masks, Done. (0.656s)\n",
      "image 26/187 C:\\Users\\user\\Desktop\\temp\\yolov5\\test_images\\images\\Mask204_jpg.rf.1deb1c82f1f62bad98a072850e8edf58.jpg: runs\\detect\\test_result3\\Mask204_jpg.rf.1deb1c82f1f62bad98a072850e8edf58.jpg runs\\detect\\test_result3\\labels\\Mask204_jpg.rf.1deb1c82f1f62bad98a072850e8edf58\n",
      "640x640 2 Masks, 1 No glove, Done. (0.588s)\n",
      "image 27/187 C:\\Users\\user\\Desktop\\temp\\yolov5\\test_images\\images\\Mask208_jpeg_jpg.rf.e2a63e01b404a93674c78de587b9bd10.jpg: runs\\detect\\test_result3\\Mask208_jpeg_jpg.rf.e2a63e01b404a93674c78de587b9bd10.jpg runs\\detect\\test_result3\\labels\\Mask208_jpeg_jpg.rf.e2a63e01b404a93674c78de587b9bd10\n",
      "640x640 1 Mask, Done. (0.564s)\n",
      "image 28/187 C:\\Users\\user\\Desktop\\temp\\yolov5\\test_images\\images\\Mask210_jpeg_jpg.rf.010d4f9cb97d63a99d28c9a7d68b8142.jpg: runs\\detect\\test_result3\\Mask210_jpeg_jpg.rf.010d4f9cb97d63a99d28c9a7d68b8142.jpg runs\\detect\\test_result3\\labels\\Mask210_jpeg_jpg.rf.010d4f9cb97d63a99d28c9a7d68b8142\n",
      "640x640 1 Mask, Done. (0.550s)\n",
      "image 29/187 C:\\Users\\user\\Desktop\\temp\\yolov5\\test_images\\images\\Mask214_jpeg_jpg.rf.8ad7f55ea20225dd2ad08d8d68c0776b.jpg: runs\\detect\\test_result3\\Mask214_jpeg_jpg.rf.8ad7f55ea20225dd2ad08d8d68c0776b.jpg runs\\detect\\test_result3\\labels\\Mask214_jpeg_jpg.rf.8ad7f55ea20225dd2ad08d8d68c0776b\n",
      "640x640 1 Mask, Done. (0.599s)\n",
      "image 30/187 C:\\Users\\user\\Desktop\\temp\\yolov5\\test_images\\images\\Mask229_jpg.rf.7bd9375ec2612fd4e9d9abde95e8915a.jpg: runs\\detect\\test_result3\\Mask229_jpg.rf.7bd9375ec2612fd4e9d9abde95e8915a.jpg runs\\detect\\test_result3\\labels\\Mask229_jpg.rf.7bd9375ec2612fd4e9d9abde95e8915a\n",
      "640x640 2 Masks, Done. (0.717s)\n",
      "image 31/187 C:\\Users\\user\\Desktop\\temp\\yolov5\\test_images\\images\\Mask242_jpg.rf.74f2520e5a695d95e396cd9e24fd6858.jpg: runs\\detect\\test_result3\\Mask242_jpg.rf.74f2520e5a695d95e396cd9e24fd6858.jpg runs\\detect\\test_result3\\labels\\Mask242_jpg.rf.74f2520e5a695d95e396cd9e24fd6858\n",
      "640x640 1 Mask, Done. (0.895s)\n",
      "image 32/187 C:\\Users\\user\\Desktop\\temp\\yolov5\\test_images\\images\\Mask249_jpg.rf.de0590bc0b2c3a9ca378c27dc06c8918.jpg: runs\\detect\\test_result3\\Mask249_jpg.rf.de0590bc0b2c3a9ca378c27dc06c8918.jpg runs\\detect\\test_result3\\labels\\Mask249_jpg.rf.de0590bc0b2c3a9ca378c27dc06c8918\n",
      "640x640 1 Mask, Done. (0.886s)\n",
      "image 33/187 C:\\Users\\user\\Desktop\\temp\\yolov5\\test_images\\images\\Mask264_jpg.rf.183af265dca7987514b0a3f6aed7fd05.jpg: runs\\detect\\test_result3\\Mask264_jpg.rf.183af265dca7987514b0a3f6aed7fd05.jpg runs\\detect\\test_result3\\labels\\Mask264_jpg.rf.183af265dca7987514b0a3f6aed7fd05\n",
      "640x640 1 Mask, Done. (0.645s)\n",
      "image 34/187 C:\\Users\\user\\Desktop\\temp\\yolov5\\test_images\\images\\Mask265_jpg.rf.fe596ba4b03446303f037c6e5c2b1231.jpg: runs\\detect\\test_result3\\Mask265_jpg.rf.fe596ba4b03446303f037c6e5c2b1231.jpg runs\\detect\\test_result3\\labels\\Mask265_jpg.rf.fe596ba4b03446303f037c6e5c2b1231\n",
      "640x640 1 Mask, Done. (0.647s)\n",
      "image 35/187 C:\\Users\\user\\Desktop\\temp\\yolov5\\test_images\\images\\Mask51_jpg.rf.7f1e466f1cfdf30e508c294e75b3515e.jpg: runs\\detect\\test_result3\\Mask51_jpg.rf.7f1e466f1cfdf30e508c294e75b3515e.jpg runs\\detect\\test_result3\\labels\\Mask51_jpg.rf.7f1e466f1cfdf30e508c294e75b3515e\n",
      "640x640 1 Mask, Done. (0.952s)\n",
      "image 36/187 C:\\Users\\user\\Desktop\\temp\\yolov5\\test_images\\images\\Mask75_jpg.rf.6119777998646f1c8f651680578c6683.jpg: runs\\detect\\test_result3\\Mask75_jpg.rf.6119777998646f1c8f651680578c6683.jpg runs\\detect\\test_result3\\labels\\Mask75_jpg.rf.6119777998646f1c8f651680578c6683\n",
      "640x640 2 Masks, Done. (0.736s)\n",
      "image 37/187 C:\\Users\\user\\Desktop\\temp\\yolov5\\test_images\\images\\Mask87_jpeg_jpg.rf.f285a08f346a74e717955426af12170b.jpg: runs\\detect\\test_result3\\Mask87_jpeg_jpg.rf.f285a08f346a74e717955426af12170b.jpg runs\\detect\\test_result3\\labels\\Mask87_jpeg_jpg.rf.f285a08f346a74e717955426af12170b\n",
      "640x640 1 Mask, Done. (0.650s)\n",
      "image 38/187 C:\\Users\\user\\Desktop\\temp\\yolov5\\test_images\\images\\Mask90_jpeg_jpg.rf.c1fc9fbb2b5e147adc720cda4934eea4.jpg: runs\\detect\\test_result3\\Mask90_jpeg_jpg.rf.c1fc9fbb2b5e147adc720cda4934eea4.jpg runs\\detect\\test_result3\\labels\\Mask90_jpeg_jpg.rf.c1fc9fbb2b5e147adc720cda4934eea4\n",
      "640x640 1 Mask, Done. (0.618s)\n",
      "image 39/187 C:\\Users\\user\\Desktop\\temp\\yolov5\\test_images\\images\\a3d39c8a7a1f0b9e_jpg.rf.e5d557c1138183d16a673d0fa6b0569a.jpg: runs\\detect\\test_result3\\a3d39c8a7a1f0b9e_jpg.rf.e5d557c1138183d16a673d0fa6b0569a.jpg runs\\detect\\test_result3\\labels\\a3d39c8a7a1f0b9e_jpg.rf.e5d557c1138183d16a673d0fa6b0569a\n",
      "640x640 2 Gloves, Done. (0.566s)\n",
      "image 40/187 C:\\Users\\user\\Desktop\\temp\\yolov5\\test_images\\images\\a4c3aebc97ab772b_jpg.rf.942b137eb7add88ba3c64421c04a009f.jpg: runs\\detect\\test_result3\\a4c3aebc97ab772b_jpg.rf.942b137eb7add88ba3c64421c04a009f.jpg runs\\detect\\test_result3\\labels\\a4c3aebc97ab772b_jpg.rf.942b137eb7add88ba3c64421c04a009f\n",
      "640x640 1 Glove, Done. (0.563s)\n",
      "image 41/187 C:\\Users\\user\\Desktop\\temp\\yolov5\\test_images\\images\\ad79131ceb66bf10_jpg.rf.bdf6c1be3dec36fcacd6526bcc0f8310.jpg: runs\\detect\\test_result3\\ad79131ceb66bf10_jpg.rf.bdf6c1be3dec36fcacd6526bcc0f8310.jpg runs\\detect\\test_result3\\labels\\ad79131ceb66bf10_jpg.rf.bdf6c1be3dec36fcacd6526bcc0f8310\n",
      "640x640 2 Gloves, Done. (0.554s)\n",
      "image 42/187 C:\\Users\\user\\Desktop\\temp\\yolov5\\test_images\\images\\ae2814eff347a51a_jpg.rf.31c5e9c8bb32239f25fc6552fabb6bd5.jpg: runs\\detect\\test_result3\\ae2814eff347a51a_jpg.rf.31c5e9c8bb32239f25fc6552fabb6bd5.jpg runs\\detect\\test_result3\\labels\\ae2814eff347a51a_jpg.rf.31c5e9c8bb32239f25fc6552fabb6bd5\n",
      "640x640 1 Glove, 3 Helmets, 1 Mask, 1 Vest, Done. (0.607s)\n",
      "image 43/187 C:\\Users\\user\\Desktop\\temp\\yolov5\\test_images\\images\\b185842a2296b68b_jpg.rf.72d131537e1c14cb0a4f7946d0e7677a.jpg: runs\\detect\\test_result3\\b185842a2296b68b_jpg.rf.72d131537e1c14cb0a4f7946d0e7677a.jpg runs\\detect\\test_result3\\labels\\b185842a2296b68b_jpg.rf.72d131537e1c14cb0a4f7946d0e7677a\n",
      "640x640 4 Gloves, Done. (0.596s)\n",
      "image 44/187 C:\\Users\\user\\Desktop\\temp\\yolov5\\test_images\\images\\construction-worker-use-drill-bit-engineer-wearing-safety-equipment-helmet-jacket-uses-power-drill-mount-aerated-brick-wall_61243-630_jpg.rf.53812fff334aa2c21b77d01e9d357d5f.jpg: runs\\detect\\test_result3\\construction-worker-use-drill-bit-engineer-wearing-safety-equipment-helmet-jacket-uses-power-drill-mount-aerated-brick-wall_61243-630_jpg.rf.53812fff334aa2c21b77d01e9d357d5f.jpg runs\\detect\\test_result3\\labels\\construction-worker-use-drill-bit-engineer-wearing-safety-equipment-helmet-jacket-uses-power-drill-mount-aerated-brick-wall_61243-630_jpg.rf.53812fff334aa2c21b77d01e9d357d5f\n",
      "640x640 1 Glove, 1 Helmet, 1 Vest, Done. (0.566s)\n",
      "image 45/187 C:\\Users\\user\\Desktop\\temp\\yolov5\\test_images\\images\\maksssksksss115_png.rf.00bb660b939701fee8ac2f372ee10cd6.jpg: runs\\detect\\test_result3\\maksssksksss115_png.rf.00bb660b939701fee8ac2f372ee10cd6.jpg runs\\detect\\test_result3\\labels\\maksssksksss115_png.rf.00bb660b939701fee8ac2f372ee10cd6\n",
      "640x640 9 Masks, 2 No gloves, Done. (0.559s)\n",
      "image 46/187 C:\\Users\\user\\Desktop\\temp\\yolov5\\test_images\\images\\maksssksksss137_png.rf.51014a52a3d7b50d65eca2fde7df0b1d.jpg: runs\\detect\\test_result3\\maksssksksss137_png.rf.51014a52a3d7b50d65eca2fde7df0b1d.jpg runs\\detect\\test_result3\\labels\\maksssksksss137_png.rf.51014a52a3d7b50d65eca2fde7df0b1d\n",
      "640x640 2 Masks, 3 No gloves, Done. (0.589s)\n",
      "image 47/187 C:\\Users\\user\\Desktop\\temp\\yolov5\\test_images\\images\\maksssksksss176_png.rf.ef81ca9318bc5a1b2ce51d02d02279be.jpg: runs\\detect\\test_result3\\maksssksksss176_png.rf.ef81ca9318bc5a1b2ce51d02d02279be.jpg runs\\detect\\test_result3\\labels\\maksssksksss176_png.rf.ef81ca9318bc5a1b2ce51d02d02279be\n",
      "640x640 8 Masks, 2 No gloves, Done. (0.575s)\n",
      "image 48/187 C:\\Users\\user\\Desktop\\temp\\yolov5\\test_images\\images\\maksssksksss221_png.rf.d71c92f426b5c93b4322512aabf16708.jpg: runs\\detect\\test_result3\\maksssksksss221_png.rf.d71c92f426b5c93b4322512aabf16708.jpg runs\\detect\\test_result3\\labels\\maksssksksss221_png.rf.d71c92f426b5c93b4322512aabf16708\n",
      "640x640 1 Glove, 5 Masks, 1 No glove, Done. (0.601s)\n",
      "image 49/187 C:\\Users\\user\\Desktop\\temp\\yolov5\\test_images\\images\\maksssksksss227_png.rf.9095538b879df34c97ccf25c5388c907.jpg: runs\\detect\\test_result3\\maksssksksss227_png.rf.9095538b879df34c97ccf25c5388c907.jpg runs\\detect\\test_result3\\labels\\maksssksksss227_png.rf.9095538b879df34c97ccf25c5388c907\n",
      "640x640 12 Masks, 1 No glove, Done. (0.573s)\n",
      "image 50/187 C:\\Users\\user\\Desktop\\temp\\yolov5\\test_images\\images\\maksssksksss297_png.rf.24a632e7f929cf12a6708764c0d0db65.jpg: runs\\detect\\test_result3\\maksssksksss297_png.rf.24a632e7f929cf12a6708764c0d0db65.jpg runs\\detect\\test_result3\\labels\\maksssksksss297_png.rf.24a632e7f929cf12a6708764c0d0db65\n",
      "640x640 14 Masks, 2 No gloves, Done. (0.567s)\n",
      "image 51/187 C:\\Users\\user\\Desktop\\temp\\yolov5\\test_images\\images\\maksssksksss330_png.rf.80fcdb90f7c44b862fa83b1595b8b30e.jpg: runs\\detect\\test_result3\\maksssksksss330_png.rf.80fcdb90f7c44b862fa83b1595b8b30e.jpg runs\\detect\\test_result3\\labels\\maksssksksss330_png.rf.80fcdb90f7c44b862fa83b1595b8b30e\n",
      "640x640 1 Helmet, 4 Masks, 1 No glove, Done. (0.545s)\n",
      "image 52/187 C:\\Users\\user\\Desktop\\temp\\yolov5\\test_images\\images\\maksssksksss36_png.rf.297b02363d968a0f832a5bc18220ea5e.jpg: runs\\detect\\test_result3\\maksssksksss36_png.rf.297b02363d968a0f832a5bc18220ea5e.jpg runs\\detect\\test_result3\\labels\\maksssksksss36_png.rf.297b02363d968a0f832a5bc18220ea5e\n",
      "640x640 1 Glove, 8 Masks, 1 No glove, Done. (0.566s)\n",
      "image 53/187 C:\\Users\\user\\Desktop\\temp\\yolov5\\test_images\\images\\maksssksksss372_png.rf.f184138f95a15e996db3a248a8327f36.jpg: runs\\detect\\test_result3\\maksssksksss372_png.rf.f184138f95a15e996db3a248a8327f36.jpg runs\\detect\\test_result3\\labels\\maksssksksss372_png.rf.f184138f95a15e996db3a248a8327f36\n",
      "640x640 2 Masks, 1 No glove, Done. (0.547s)\n",
      "image 54/187 C:\\Users\\user\\Desktop\\temp\\yolov5\\test_images\\images\\maksssksksss391_png.rf.4c0c63852a86b64ffaadd48d3bf81356.jpg: runs\\detect\\test_result3\\maksssksksss391_png.rf.4c0c63852a86b64ffaadd48d3bf81356.jpg runs\\detect\\test_result3\\labels\\maksssksksss391_png.rf.4c0c63852a86b64ffaadd48d3bf81356\n",
      "640x640 1 Helmet, 4 Masks, 5 No gloves, Done. (0.563s)\n",
      "image 55/187 C:\\Users\\user\\Desktop\\temp\\yolov5\\test_images\\images\\maksssksksss3_png.rf.4438255343f8fdf245d9209eb6204831.jpg: runs\\detect\\test_result3\\maksssksksss3_png.rf.4438255343f8fdf245d9209eb6204831.jpg runs\\detect\\test_result3\\labels\\maksssksksss3_png.rf.4438255343f8fdf245d9209eb6204831\n",
      "640x640 1 Glove, 8 Masks, 1 No glove, 1 Vest, Done. (0.558s)\n",
      "image 56/187 C:\\Users\\user\\Desktop\\temp\\yolov5\\test_images\\images\\maksssksksss64_png.rf.393a1c037bf87b7b6356272c8f0a5ccd.jpg: runs\\detect\\test_result3\\maksssksksss64_png.rf.393a1c037bf87b7b6356272c8f0a5ccd.jpg runs\\detect\\test_result3\\labels\\maksssksksss64_png.rf.393a1c037bf87b7b6356272c8f0a5ccd\n",
      "640x640 1 Glove, 3 Masks, 4 No gloves, Done. (0.588s)\n",
      "image 57/187 C:\\Users\\user\\Desktop\\temp\\yolov5\\test_images\\images\\maksssksksss67_png.rf.277415115def1e33781ebbd41a62870a.jpg: runs\\detect\\test_result3\\maksssksksss67_png.rf.277415115def1e33781ebbd41a62870a.jpg runs\\detect\\test_result3\\labels\\maksssksksss67_png.rf.277415115def1e33781ebbd41a62870a\n",
      "640x640 2 Gloves, 3 Masks, 2 No gloves, Done. (0.538s)\n",
      "image 58/187 C:\\Users\\user\\Desktop\\temp\\yolov5\\test_images\\images\\maksssksksss73_png.rf.0016071abf58d3db1c4874acf9c23972.jpg: runs\\detect\\test_result3\\maksssksksss73_png.rf.0016071abf58d3db1c4874acf9c23972.jpg runs\\detect\\test_result3\\labels\\maksssksksss73_png.rf.0016071abf58d3db1c4874acf9c23972\n",
      "640x640 1 Glove, 3 Masks, 1 No glove, Done. (0.524s)\n",
      "image 59/187 C:\\Users\\user\\Desktop\\temp\\yolov5\\test_images\\images\\maksssksksss86_png.rf.0c9e1cf6479631dca075ae86aa7706ed.jpg: runs\\detect\\test_result3\\maksssksksss86_png.rf.0c9e1cf6479631dca075ae86aa7706ed.jpg runs\\detect\\test_result3\\labels\\maksssksksss86_png.rf.0c9e1cf6479631dca075ae86aa7706ed\n",
      "640x640 1 Helmet, 3 Masks, 2 No gloves, Done. (0.529s)\n",
      "image 60/187 C:\\Users\\user\\Desktop\\temp\\yolov5\\test_images\\images\\ppe_0001_jpg.rf.27141c3a9baf1c77c58cd4441a8fc24c.jpg: runs\\detect\\test_result3\\ppe_0001_jpg.rf.27141c3a9baf1c77c58cd4441a8fc24c.jpg runs\\detect\\test_result3\\labels\\ppe_0001_jpg.rf.27141c3a9baf1c77c58cd4441a8fc24c\n",
      "640x640 3 Helmets, 1 No glove, 2 Vests, Done. (0.526s)\n",
      "image 61/187 C:\\Users\\user\\Desktop\\temp\\yolov5\\test_images\\images\\ppe_0007_jpg.rf.eb945e19fef5189b0b2a9a009050563a.jpg: runs\\detect\\test_result3\\ppe_0007_jpg.rf.eb945e19fef5189b0b2a9a009050563a.jpg runs\\detect\\test_result3\\labels\\ppe_0007_jpg.rf.eb945e19fef5189b0b2a9a009050563a\n",
      "640x640 1 Helmet, 1 No glove, 1 Vest, Done. (0.538s)\n",
      "image 62/187 C:\\Users\\user\\Desktop\\temp\\yolov5\\test_images\\images\\ppe_0023_jpg.rf.84dc9595dd6682b54da898837c61632c.jpg: runs\\detect\\test_result3\\ppe_0023_jpg.rf.84dc9595dd6682b54da898837c61632c.jpg runs\\detect\\test_result3\\labels\\ppe_0023_jpg.rf.84dc9595dd6682b54da898837c61632c\n",
      "640x640 1 Glove, 5 Goggless, 6 Helmets, 3 No gloves, 6 Vests, Done. (0.534s)\n",
      "image 63/187 C:\\Users\\user\\Desktop\\temp\\yolov5\\test_images\\images\\ppe_0024_jpg.rf.c3e36d32aeb6d0c93acc3f3db25474b9.jpg: runs\\detect\\test_result3\\ppe_0024_jpg.rf.c3e36d32aeb6d0c93acc3f3db25474b9.jpg runs\\detect\\test_result3\\labels\\ppe_0024_jpg.rf.c3e36d32aeb6d0c93acc3f3db25474b9\n",
      "640x640 1 Goggles, 1 Helmet, Done. (0.532s)\n",
      "image 64/187 C:\\Users\\user\\Desktop\\temp\\yolov5\\test_images\\images\\ppe_0068_jpg.rf.933483a30b434f9bd4e4acafd46cfa75.jpg: runs\\detect\\test_result3\\ppe_0068_jpg.rf.933483a30b434f9bd4e4acafd46cfa75.jpg runs\\detect\\test_result3\\labels\\ppe_0068_jpg.rf.933483a30b434f9bd4e4acafd46cfa75\n",
      "640x640 3 Goggless, 3 Helmets, 1 No glove, 3 Vests, Done. (0.555s)\n",
      "image 65/187 C:\\Users\\user\\Desktop\\temp\\yolov5\\test_images\\images\\ppe_0079_jpg.rf.d02910840177b48a7f0ccc423fa273bb.jpg: runs\\detect\\test_result3\\ppe_0079_jpg.rf.d02910840177b48a7f0ccc423fa273bb.jpg runs\\detect\\test_result3\\labels\\ppe_0079_jpg.rf.d02910840177b48a7f0ccc423fa273bb\n",
      "640x640 3 Helmets, 2 Vests, Done. (0.564s)\n",
      "image 66/187 C:\\Users\\user\\Desktop\\temp\\yolov5\\test_images\\images\\ppe_0110_jpg.rf.697b85fd46932ecc44a98a1e14150cdc.jpg: runs\\detect\\test_result3\\ppe_0110_jpg.rf.697b85fd46932ecc44a98a1e14150cdc.jpg runs\\detect\\test_result3\\labels\\ppe_0110_jpg.rf.697b85fd46932ecc44a98a1e14150cdc\n",
      "640x640 1 Helmet, Done. (0.563s)\n",
      "image 67/187 C:\\Users\\user\\Desktop\\temp\\yolov5\\test_images\\images\\ppe_0113_jpg.rf.84a8ccb289454d3f5e75dc23515359bf.jpg: runs\\detect\\test_result3\\ppe_0113_jpg.rf.84a8ccb289454d3f5e75dc23515359bf.jpg runs\\detect\\test_result3\\labels\\ppe_0113_jpg.rf.84a8ccb289454d3f5e75dc23515359bf\n",
      "640x640 1 Goggles, 1 Helmet, 1 Mask, 1 No glove, Done. (0.557s)\n",
      "image 68/187 C:\\Users\\user\\Desktop\\temp\\yolov5\\test_images\\images\\ppe_0116_jpg.rf.d3bbeeeb42ec3b8e181f5fa30cda9427.jpg: runs\\detect\\test_result3\\ppe_0116_jpg.rf.d3bbeeeb42ec3b8e181f5fa30cda9427.jpg runs\\detect\\test_result3\\labels\\ppe_0116_jpg.rf.d3bbeeeb42ec3b8e181f5fa30cda9427\n",
      "640x640 2 Helmets, 1 No glove, 1 Vest, Done. (0.556s)\n",
      "image 69/187 C:\\Users\\user\\Desktop\\temp\\yolov5\\test_images\\images\\ppe_0117_jpg.rf.5df7a90ad361241fa0e393e87c0dcf59.jpg: runs\\detect\\test_result3\\ppe_0117_jpg.rf.5df7a90ad361241fa0e393e87c0dcf59.jpg runs\\detect\\test_result3\\labels\\ppe_0117_jpg.rf.5df7a90ad361241fa0e393e87c0dcf59\n",
      "640x640 3 Gloves, 2 Goggless, 4 Helmets, 1 No glove, 2 Vests, Done. (0.541s)\n",
      "image 70/187 C:\\Users\\user\\Desktop\\temp\\yolov5\\test_images\\images\\ppe_0146_jpg.rf.3066d926a40205f9622b539270fcbd2c.jpg: runs\\detect\\test_result3\\ppe_0146_jpg.rf.3066d926a40205f9622b539270fcbd2c.jpg runs\\detect\\test_result3\\labels\\ppe_0146_jpg.rf.3066d926a40205f9622b539270fcbd2c\n",
      "640x640 1 Helmet, 1 No glove, 1 Vest, Done. (0.561s)\n",
      "image 71/187 C:\\Users\\user\\Desktop\\temp\\yolov5\\test_images\\images\\ppe_0171_jpg.rf.65e5cccd3790bd9864cf8d11983d2da8.jpg: runs\\detect\\test_result3\\ppe_0171_jpg.rf.65e5cccd3790bd9864cf8d11983d2da8.jpg runs\\detect\\test_result3\\labels\\ppe_0171_jpg.rf.65e5cccd3790bd9864cf8d11983d2da8\n",
      "640x640 1 Goggles, 2 Helmets, Done. (0.560s)\n",
      "image 72/187 C:\\Users\\user\\Desktop\\temp\\yolov5\\test_images\\images\\ppe_0190_jpg.rf.16b66e1db3f4ba3cc83dc9707a109019.jpg: runs\\detect\\test_result3\\ppe_0190_jpg.rf.16b66e1db3f4ba3cc83dc9707a109019.jpg runs\\detect\\test_result3\\labels\\ppe_0190_jpg.rf.16b66e1db3f4ba3cc83dc9707a109019\n",
      "640x640 1 Helmet, 1 Mask, Done. (0.567s)\n",
      "image 73/187 C:\\Users\\user\\Desktop\\temp\\yolov5\\test_images\\images\\ppe_0197_jpg.rf.bcb9ad96efd5578bf4a34354dea923b5.jpg: runs\\detect\\test_result3\\ppe_0197_jpg.rf.bcb9ad96efd5578bf4a34354dea923b5.jpg runs\\detect\\test_result3\\labels\\ppe_0197_jpg.rf.bcb9ad96efd5578bf4a34354dea923b5\n",
      "640x640 1 Helmet, 1 Vest, Done. (0.549s)\n",
      "image 74/187 C:\\Users\\user\\Desktop\\temp\\yolov5\\test_images\\images\\ppe_0198_jpg.rf.3d7bbb7c0b190c421c0c9cc4a8a99661.jpg: runs\\detect\\test_result3\\ppe_0198_jpg.rf.3d7bbb7c0b190c421c0c9cc4a8a99661.jpg runs\\detect\\test_result3\\labels\\ppe_0198_jpg.rf.3d7bbb7c0b190c421c0c9cc4a8a99661\n",
      "640x640 2 Goggless, 3 Helmets, 1 No glove, 4 Vests, Done. (0.547s)\n",
      "image 75/187 C:\\Users\\user\\Desktop\\temp\\yolov5\\test_images\\images\\ppe_0210_jpg.rf.36e3241c684a34131e204137e6bc8766.jpg: runs\\detect\\test_result3\\ppe_0210_jpg.rf.36e3241c684a34131e204137e6bc8766.jpg runs\\detect\\test_result3\\labels\\ppe_0210_jpg.rf.36e3241c684a34131e204137e6bc8766\n",
      "640x640 2 Helmets, 2 No gloves, Done. (0.550s)\n",
      "image 76/187 C:\\Users\\user\\Desktop\\temp\\yolov5\\test_images\\images\\ppe_0213_jpg.rf.70f9f0525c30d57cb79e04f19451f9a6.jpg: runs\\detect\\test_result3\\ppe_0213_jpg.rf.70f9f0525c30d57cb79e04f19451f9a6.jpg runs\\detect\\test_result3\\labels\\ppe_0213_jpg.rf.70f9f0525c30d57cb79e04f19451f9a6\n",
      "640x640 4 Helmets, 2 No gloves, 2 Vests, Done. (0.562s)\n",
      "image 77/187 C:\\Users\\user\\Desktop\\temp\\yolov5\\test_images\\images\\ppe_0222_jpg.rf.f99c7b34f32c4503e1d34077dbe6e0c5.jpg: runs\\detect\\test_result3\\ppe_0222_jpg.rf.f99c7b34f32c4503e1d34077dbe6e0c5.jpg runs\\detect\\test_result3\\labels\\ppe_0222_jpg.rf.f99c7b34f32c4503e1d34077dbe6e0c5\n",
      "640x640 1 Glove, 3 Helmets, 3 Vests, Done. (0.535s)\n",
      "image 78/187 C:\\Users\\user\\Desktop\\temp\\yolov5\\test_images\\images\\ppe_0234_jpg.rf.00bc4e8037adf042747294822a519776.jpg: runs\\detect\\test_result3\\ppe_0234_jpg.rf.00bc4e8037adf042747294822a519776.jpg runs\\detect\\test_result3\\labels\\ppe_0234_jpg.rf.00bc4e8037adf042747294822a519776\n",
      "640x640 1 Goggles, 2 Helmets, 1 Vest, Done. (0.567s)\n",
      "image 79/187 C:\\Users\\user\\Desktop\\temp\\yolov5\\test_images\\images\\ppe_0235_jpg.rf.f96300ab149ea08e49ca35f8930ad225.jpg: runs\\detect\\test_result3\\ppe_0235_jpg.rf.f96300ab149ea08e49ca35f8930ad225.jpg runs\\detect\\test_result3\\labels\\ppe_0235_jpg.rf.f96300ab149ea08e49ca35f8930ad225\n",
      "640x640 1 Helmet, 1 Vest, Done. (0.550s)\n",
      "image 80/187 C:\\Users\\user\\Desktop\\temp\\yolov5\\test_images\\images\\ppe_0237_jpg.rf.4125e5eff024e210e618597111ec4fc0.jpg: runs\\detect\\test_result3\\ppe_0237_jpg.rf.4125e5eff024e210e618597111ec4fc0.jpg runs\\detect\\test_result3\\labels\\ppe_0237_jpg.rf.4125e5eff024e210e618597111ec4fc0\n",
      "640x640 1 Goggles, 1 Helmet, 1 No glove, 1 Vest, Done. (0.540s)\n",
      "image 81/187 C:\\Users\\user\\Desktop\\temp\\yolov5\\test_images\\images\\ppe_0254_jpg.rf.e69294455c552bb226e0d12a091cd012.jpg: runs\\detect\\test_result3\\ppe_0254_jpg.rf.e69294455c552bb226e0d12a091cd012.jpg runs\\detect\\test_result3\\labels\\ppe_0254_jpg.rf.e69294455c552bb226e0d12a091cd012\n",
      "640x640 1 Helmet, 1 Mask, 1 Vest, Done. (0.547s)\n",
      "image 82/187 C:\\Users\\user\\Desktop\\temp\\yolov5\\test_images\\images\\ppe_0272_jpg.rf.773d5bf5abac9783b59b0f47c68a6092.jpg: runs\\detect\\test_result3\\ppe_0272_jpg.rf.773d5bf5abac9783b59b0f47c68a6092.jpg runs\\detect\\test_result3\\labels\\ppe_0272_jpg.rf.773d5bf5abac9783b59b0f47c68a6092\n",
      "640x640 1 Glove, 2 Helmets, 1 Vest, Done. (0.555s)\n",
      "image 83/187 C:\\Users\\user\\Desktop\\temp\\yolov5\\test_images\\images\\ppe_0274_jpg.rf.8a37257304c1ad0d7fb6b944055050d3.jpg: runs\\detect\\test_result3\\ppe_0274_jpg.rf.8a37257304c1ad0d7fb6b944055050d3.jpg runs\\detect\\test_result3\\labels\\ppe_0274_jpg.rf.8a37257304c1ad0d7fb6b944055050d3\n",
      "640x640 1 Goggles, 1 Helmet, Done. (0.557s)\n",
      "image 84/187 C:\\Users\\user\\Desktop\\temp\\yolov5\\test_images\\images\\ppe_0285_jpg.rf.6f18fadb0ae45d59c65e33e89e2d0fa7.jpg: runs\\detect\\test_result3\\ppe_0285_jpg.rf.6f18fadb0ae45d59c65e33e89e2d0fa7.jpg runs\\detect\\test_result3\\labels\\ppe_0285_jpg.rf.6f18fadb0ae45d59c65e33e89e2d0fa7\n",
      "640x640 1 Helmet, 2 No gloves, Done. (0.565s)\n",
      "image 85/187 C:\\Users\\user\\Desktop\\temp\\yolov5\\test_images\\images\\ppe_0305_jpg.rf.33366ed3c81fc9b6ee6642c4d35754fb.jpg: runs\\detect\\test_result3\\ppe_0305_jpg.rf.33366ed3c81fc9b6ee6642c4d35754fb.jpg runs\\detect\\test_result3\\labels\\ppe_0305_jpg.rf.33366ed3c81fc9b6ee6642c4d35754fb\n",
      "640x640 3 Helmets, 1 No glove, 3 Vests, Done. (0.561s)\n",
      "image 86/187 C:\\Users\\user\\Desktop\\temp\\yolov5\\test_images\\images\\ppe_0318_jpg.rf.24aa6fb71b0d8fd105154f84f82eedc2.jpg: runs\\detect\\test_result3\\ppe_0318_jpg.rf.24aa6fb71b0d8fd105154f84f82eedc2.jpg runs\\detect\\test_result3\\labels\\ppe_0318_jpg.rf.24aa6fb71b0d8fd105154f84f82eedc2\n",
      "640x640 3 Gloves, 1 Goggles, 3 Helmets, 1 Vest, Done. (0.581s)\n",
      "image 87/187 C:\\Users\\user\\Desktop\\temp\\yolov5\\test_images\\images\\ppe_0337_jpg.rf.b2692a351be70fb8d50d740520871496.jpg: runs\\detect\\test_result3\\ppe_0337_jpg.rf.b2692a351be70fb8d50d740520871496.jpg runs\\detect\\test_result3\\labels\\ppe_0337_jpg.rf.b2692a351be70fb8d50d740520871496\n",
      "640x640 1 Glove, 2 Helmets, 2 Vests, Done. (0.550s)\n",
      "image 88/187 C:\\Users\\user\\Desktop\\temp\\yolov5\\test_images\\images\\ppe_0374_jpg.rf.509b8aad24bc52979c1b7b3f070488e7.jpg: runs\\detect\\test_result3\\ppe_0374_jpg.rf.509b8aad24bc52979c1b7b3f070488e7.jpg runs\\detect\\test_result3\\labels\\ppe_0374_jpg.rf.509b8aad24bc52979c1b7b3f070488e7\n",
      "640x640 2 Goggless, 8 Helmets, 1 Mask, 3 No gloves, 6 Vests, Done. (0.556s)\n",
      "image 89/187 C:\\Users\\user\\Desktop\\temp\\yolov5\\test_images\\images\\ppe_0392_jpg.rf.1282cfef2598f0bd540992d941c88a35.jpg: runs\\detect\\test_result3\\ppe_0392_jpg.rf.1282cfef2598f0bd540992d941c88a35.jpg runs\\detect\\test_result3\\labels\\ppe_0392_jpg.rf.1282cfef2598f0bd540992d941c88a35\n",
      "640x640 2 Helmets, 3 Vests, Done. (0.579s)\n",
      "image 90/187 C:\\Users\\user\\Desktop\\temp\\yolov5\\test_images\\images\\ppe_0393_jpg.rf.547e1a68d283d1f7902891c4a12d6128.jpg: runs\\detect\\test_result3\\ppe_0393_jpg.rf.547e1a68d283d1f7902891c4a12d6128.jpg runs\\detect\\test_result3\\labels\\ppe_0393_jpg.rf.547e1a68d283d1f7902891c4a12d6128\n",
      "640x640 1 Glove, 1 Goggles, 1 Helmet, Done. (0.567s)\n",
      "image 91/187 C:\\Users\\user\\Desktop\\temp\\yolov5\\test_images\\images\\ppe_0394_jpg.rf.06e78faa0d9485ff84e3981283aa692d.jpg: runs\\detect\\test_result3\\ppe_0394_jpg.rf.06e78faa0d9485ff84e3981283aa692d.jpg runs\\detect\\test_result3\\labels\\ppe_0394_jpg.rf.06e78faa0d9485ff84e3981283aa692d\n",
      "640x640 1 Helmet, 1 No glove, 1 Vest, Done. (0.558s)\n",
      "image 92/187 C:\\Users\\user\\Desktop\\temp\\yolov5\\test_images\\images\\ppe_0403_jpg.rf.2a8180a1bc702367ad4d2b15821cc72b.jpg: runs\\detect\\test_result3\\ppe_0403_jpg.rf.2a8180a1bc702367ad4d2b15821cc72b.jpg runs\\detect\\test_result3\\labels\\ppe_0403_jpg.rf.2a8180a1bc702367ad4d2b15821cc72b\n",
      "640x640 1 Helmet, 1 Vest, Done. (0.643s)\n",
      "image 93/187 C:\\Users\\user\\Desktop\\temp\\yolov5\\test_images\\images\\ppe_0416_jpg.rf.4103f7b8a6ecedfb85c2871279a92f19.jpg: runs\\detect\\test_result3\\ppe_0416_jpg.rf.4103f7b8a6ecedfb85c2871279a92f19.jpg runs\\detect\\test_result3\\labels\\ppe_0416_jpg.rf.4103f7b8a6ecedfb85c2871279a92f19\n",
      "640x640 1 Goggles, 1 Mask, 1 Vest, Done. (0.915s)\n",
      "image 94/187 C:\\Users\\user\\Desktop\\temp\\yolov5\\test_images\\images\\ppe_0439_jpg.rf.de076453eb733b7fc305178da3eb0f1a.jpg: runs\\detect\\test_result3\\ppe_0439_jpg.rf.de076453eb733b7fc305178da3eb0f1a.jpg runs\\detect\\test_result3\\labels\\ppe_0439_jpg.rf.de076453eb733b7fc305178da3eb0f1a\n",
      "640x640 2 Goggless, 2 Helmets, Done. (0.721s)\n",
      "image 95/187 C:\\Users\\user\\Desktop\\temp\\yolov5\\test_images\\images\\ppe_0463_jpg.rf.b2e7085df6773b3e4295f1bc725066bf.jpg: runs\\detect\\test_result3\\ppe_0463_jpg.rf.b2e7085df6773b3e4295f1bc725066bf.jpg runs\\detect\\test_result3\\labels\\ppe_0463_jpg.rf.b2e7085df6773b3e4295f1bc725066bf\n",
      "640x640 1 Glove, 1 Helmet, Done. (0.630s)\n",
      "image 96/187 C:\\Users\\user\\Desktop\\temp\\yolov5\\test_images\\images\\ppe_0469_jpg.rf.2a961105ba5338d552bcbbaafc51425e.jpg: runs\\detect\\test_result3\\ppe_0469_jpg.rf.2a961105ba5338d552bcbbaafc51425e.jpg runs\\detect\\test_result3\\labels\\ppe_0469_jpg.rf.2a961105ba5338d552bcbbaafc51425e\n",
      "640x640 1 Goggles, 1 Helmet, 1 Vest, Done. (0.563s)\n",
      "image 97/187 C:\\Users\\user\\Desktop\\temp\\yolov5\\test_images\\images\\ppe_0483_jpg.rf.430f6cfbc217cd61788d94a99e1fded0.jpg: runs\\detect\\test_result3\\ppe_0483_jpg.rf.430f6cfbc217cd61788d94a99e1fded0.jpg runs\\detect\\test_result3\\labels\\ppe_0483_jpg.rf.430f6cfbc217cd61788d94a99e1fded0\n",
      "640x640 1 Goggles, 1 Helmet, 2 No gloves, 1 Vest, Done. (0.762s)\n",
      "image 98/187 C:\\Users\\user\\Desktop\\temp\\yolov5\\test_images\\images\\ppe_0495_jpg.rf.f32683fc076208d94604803cfbf6244f.jpg: runs\\detect\\test_result3\\ppe_0495_jpg.rf.f32683fc076208d94604803cfbf6244f.jpg runs\\detect\\test_result3\\labels\\ppe_0495_jpg.rf.f32683fc076208d94604803cfbf6244f\n",
      "640x640 2 Goggless, 2 Helmets, Done. (0.547s)\n",
      "image 99/187 C:\\Users\\user\\Desktop\\temp\\yolov5\\test_images\\images\\ppe_0497_jpg.rf.38e0adb0086ad10a84fa2971ac4aa888.jpg: runs\\detect\\test_result3\\ppe_0497_jpg.rf.38e0adb0086ad10a84fa2971ac4aa888.jpg runs\\detect\\test_result3\\labels\\ppe_0497_jpg.rf.38e0adb0086ad10a84fa2971ac4aa888\n",
      "640x640 1 Goggles, 2 Helmets, 1 No glove, 4 Vests, Done. (0.575s)\n",
      "image 100/187 C:\\Users\\user\\Desktop\\temp\\yolov5\\test_images\\images\\ppe_0500_jpg.rf.3b9e7ffd4ac8d27819cb5d5bdf331d8a.jpg: runs\\detect\\test_result3\\ppe_0500_jpg.rf.3b9e7ffd4ac8d27819cb5d5bdf331d8a.jpg runs\\detect\\test_result3\\labels\\ppe_0500_jpg.rf.3b9e7ffd4ac8d27819cb5d5bdf331d8a\n",
      "640x640 2 Helmets, 2 Vests, Done. (0.556s)\n",
      "image 101/187 C:\\Users\\user\\Desktop\\temp\\yolov5\\test_images\\images\\ppe_0503_jpg.rf.f204e15f959b998796f2cb38365c13a3.jpg: runs\\detect\\test_result3\\ppe_0503_jpg.rf.f204e15f959b998796f2cb38365c13a3.jpg runs\\detect\\test_result3\\labels\\ppe_0503_jpg.rf.f204e15f959b998796f2cb38365c13a3\n",
      "640x640 5 Helmets, 1 No glove, 2 Vests, Done. (0.579s)\n",
      "image 102/187 C:\\Users\\user\\Desktop\\temp\\yolov5\\test_images\\images\\ppe_0511_jpg.rf.8412c3f567cdd072aa0e5b7f790c3505.jpg: runs\\detect\\test_result3\\ppe_0511_jpg.rf.8412c3f567cdd072aa0e5b7f790c3505.jpg runs\\detect\\test_result3\\labels\\ppe_0511_jpg.rf.8412c3f567cdd072aa0e5b7f790c3505\n",
      "640x640 3 Gloves, 1 Goggles, 4 Helmets, 1 No glove, 1 Vest, Done. (0.564s)\n",
      "image 103/187 C:\\Users\\user\\Desktop\\temp\\yolov5\\test_images\\images\\ppe_0513_jpg.rf.b05d6347764874e8beb29024a945acb6.jpg: runs\\detect\\test_result3\\ppe_0513_jpg.rf.b05d6347764874e8beb29024a945acb6.jpg runs\\detect\\test_result3\\labels\\ppe_0513_jpg.rf.b05d6347764874e8beb29024a945acb6\n",
      "640x640 Done. (0.576s)\n",
      "image 104/187 C:\\Users\\user\\Desktop\\temp\\yolov5\\test_images\\images\\ppe_0529_jpg.rf.ad2ef2f38b01112e51a2f22cadc0d530.jpg: runs\\detect\\test_result3\\ppe_0529_jpg.rf.ad2ef2f38b01112e51a2f22cadc0d530.jpg runs\\detect\\test_result3\\labels\\ppe_0529_jpg.rf.ad2ef2f38b01112e51a2f22cadc0d530\n",
      "640x640 1 Helmet, Done. (0.551s)\n",
      "image 105/187 C:\\Users\\user\\Desktop\\temp\\yolov5\\test_images\\images\\ppe_0536_jpg.rf.cff369ac6911d77fc56e9082856c2b68.jpg: runs\\detect\\test_result3\\ppe_0536_jpg.rf.cff369ac6911d77fc56e9082856c2b68.jpg runs\\detect\\test_result3\\labels\\ppe_0536_jpg.rf.cff369ac6911d77fc56e9082856c2b68\n",
      "640x640 1 Helmet, 2 No gloves, 3 Vests, Done. (0.585s)\n",
      "image 106/187 C:\\Users\\user\\Desktop\\temp\\yolov5\\test_images\\images\\ppe_0548_jpg.rf.cbd072b3c38a67c28e620158d5596b82.jpg: runs\\detect\\test_result3\\ppe_0548_jpg.rf.cbd072b3c38a67c28e620158d5596b82.jpg runs\\detect\\test_result3\\labels\\ppe_0548_jpg.rf.cbd072b3c38a67c28e620158d5596b82\n",
      "640x640 1 Glove, 1 Helmet, 1 Vest, Done. (0.558s)\n",
      "image 107/187 C:\\Users\\user\\Desktop\\temp\\yolov5\\test_images\\images\\ppe_0563_jpg.rf.59aafce070d380debc8fe94e6c25a882.jpg: runs\\detect\\test_result3\\ppe_0563_jpg.rf.59aafce070d380debc8fe94e6c25a882.jpg runs\\detect\\test_result3\\labels\\ppe_0563_jpg.rf.59aafce070d380debc8fe94e6c25a882\n",
      "640x640 2 Helmets, 3 Vests, Done. (0.520s)\n",
      "image 108/187 C:\\Users\\user\\Desktop\\temp\\yolov5\\test_images\\images\\ppe_0568_jpg.rf.76c72a995772e6b0a95e32ee62727523.jpg: runs\\detect\\test_result3\\ppe_0568_jpg.rf.76c72a995772e6b0a95e32ee62727523.jpg runs\\detect\\test_result3\\labels\\ppe_0568_jpg.rf.76c72a995772e6b0a95e32ee62727523\n",
      "640x640 1 Goggles, 1 Helmet, 1 No glove, Done. (0.555s)\n",
      "image 109/187 C:\\Users\\user\\Desktop\\temp\\yolov5\\test_images\\images\\ppe_0593_jpg.rf.36fa536e8f0a180baa72868434504959.jpg: runs\\detect\\test_result3\\ppe_0593_jpg.rf.36fa536e8f0a180baa72868434504959.jpg runs\\detect\\test_result3\\labels\\ppe_0593_jpg.rf.36fa536e8f0a180baa72868434504959\n",
      "640x640 3 Helmets, 4 No gloves, 3 Vests, Done. (0.571s)\n",
      "image 110/187 C:\\Users\\user\\Desktop\\temp\\yolov5\\test_images\\images\\ppe_0616_jpg.rf.e40ba8951a52eb4c2e66f35c6b2e5b71.jpg: runs\\detect\\test_result3\\ppe_0616_jpg.rf.e40ba8951a52eb4c2e66f35c6b2e5b71.jpg runs\\detect\\test_result3\\labels\\ppe_0616_jpg.rf.e40ba8951a52eb4c2e66f35c6b2e5b71\n",
      "640x640 1 Glove, 7 Helmets, 1 No glove, Done. (0.549s)\n",
      "image 111/187 C:\\Users\\user\\Desktop\\temp\\yolov5\\test_images\\images\\ppe_0618_jpg.rf.96287c8c6a6fe08c05d03c06d9ec5969.jpg: runs\\detect\\test_result3\\ppe_0618_jpg.rf.96287c8c6a6fe08c05d03c06d9ec5969.jpg runs\\detect\\test_result3\\labels\\ppe_0618_jpg.rf.96287c8c6a6fe08c05d03c06d9ec5969\n",
      "640x640 1 Goggles, 2 Helmets, 2 Masks, 2 Vests, Done. (0.562s)\n",
      "image 112/187 C:\\Users\\user\\Desktop\\temp\\yolov5\\test_images\\images\\ppe_0619_jpg.rf.70f522bf9300c39a626853cfdb39de2e.jpg: runs\\detect\\test_result3\\ppe_0619_jpg.rf.70f522bf9300c39a626853cfdb39de2e.jpg runs\\detect\\test_result3\\labels\\ppe_0619_jpg.rf.70f522bf9300c39a626853cfdb39de2e\n",
      "640x640 1 Glove, 1 Helmet, 1 Vest, Done. (0.568s)\n",
      "image 113/187 C:\\Users\\user\\Desktop\\temp\\yolov5\\test_images\\images\\ppe_0642_jpg.rf.8c559ac39e964438a116bb455c450758.jpg: runs\\detect\\test_result3\\ppe_0642_jpg.rf.8c559ac39e964438a116bb455c450758.jpg runs\\detect\\test_result3\\labels\\ppe_0642_jpg.rf.8c559ac39e964438a116bb455c450758\n",
      "640x640 1 Goggles, 3 Helmets, 2 Masks, 4 No gloves, 2 Vests, Done. (0.546s)\n",
      "image 114/187 C:\\Users\\user\\Desktop\\temp\\yolov5\\test_images\\images\\ppe_0659_jpg.rf.fe71c5fcb32539e91a4d2992a08e2182.jpg: runs\\detect\\test_result3\\ppe_0659_jpg.rf.fe71c5fcb32539e91a4d2992a08e2182.jpg runs\\detect\\test_result3\\labels\\ppe_0659_jpg.rf.fe71c5fcb32539e91a4d2992a08e2182\n",
      "640x640 3 Helmets, 1 Vest, Done. (0.568s)\n",
      "image 115/187 C:\\Users\\user\\Desktop\\temp\\yolov5\\test_images\\images\\ppe_0680_jpg.rf.fe13e63fbf0dd78b8b212f69b661b2cd.jpg: runs\\detect\\test_result3\\ppe_0680_jpg.rf.fe13e63fbf0dd78b8b212f69b661b2cd.jpg runs\\detect\\test_result3\\labels\\ppe_0680_jpg.rf.fe13e63fbf0dd78b8b212f69b661b2cd\n",
      "640x640 1 Glove, 2 Helmets, Done. (0.580s)\n",
      "image 116/187 C:\\Users\\user\\Desktop\\temp\\yolov5\\test_images\\images\\ppe_0689_jpg.rf.3f1605f18a2bcb9cd1e0a6c0c0d428ca.jpg: runs\\detect\\test_result3\\ppe_0689_jpg.rf.3f1605f18a2bcb9cd1e0a6c0c0d428ca.jpg runs\\detect\\test_result3\\labels\\ppe_0689_jpg.rf.3f1605f18a2bcb9cd1e0a6c0c0d428ca\n",
      "640x640 3 Goggless, 7 Helmets, 1 No glove, 3 Vests, Done. (0.556s)\n",
      "image 117/187 C:\\Users\\user\\Desktop\\temp\\yolov5\\test_images\\images\\ppe_0693_jpg.rf.90cf12f46321e8f248a747d159f67ab0.jpg: runs\\detect\\test_result3\\ppe_0693_jpg.rf.90cf12f46321e8f248a747d159f67ab0.jpg runs\\detect\\test_result3\\labels\\ppe_0693_jpg.rf.90cf12f46321e8f248a747d159f67ab0\n",
      "640x640 1 Glove, 8 Helmets, 1 No glove, Done. (0.564s)\n",
      "image 118/187 C:\\Users\\user\\Desktop\\temp\\yolov5\\test_images\\images\\ppe_0694_jpg.rf.8579d29d5bcfd8c3bb675dea680fa30b.jpg: runs\\detect\\test_result3\\ppe_0694_jpg.rf.8579d29d5bcfd8c3bb675dea680fa30b.jpg runs\\detect\\test_result3\\labels\\ppe_0694_jpg.rf.8579d29d5bcfd8c3bb675dea680fa30b\n",
      "640x640 7 Helmets, 2 No gloves, Done. (0.554s)\n",
      "image 119/187 C:\\Users\\user\\Desktop\\temp\\yolov5\\test_images\\images\\ppe_0700_jpg.rf.80dc067a8a7796bc44b114f78182bf00.jpg: runs\\detect\\test_result3\\ppe_0700_jpg.rf.80dc067a8a7796bc44b114f78182bf00.jpg runs\\detect\\test_result3\\labels\\ppe_0700_jpg.rf.80dc067a8a7796bc44b114f78182bf00\n",
      "640x640 1 Helmet, 2 Vests, Done. (0.548s)\n",
      "image 120/187 C:\\Users\\user\\Desktop\\temp\\yolov5\\test_images\\images\\ppe_0719_jpg.rf.09cc424955d6c27cdc68852494a98193.jpg: runs\\detect\\test_result3\\ppe_0719_jpg.rf.09cc424955d6c27cdc68852494a98193.jpg runs\\detect\\test_result3\\labels\\ppe_0719_jpg.rf.09cc424955d6c27cdc68852494a98193\n",
      "640x640 1 Glove, 3 Helmets, 3 Vests, Done. (0.559s)\n",
      "image 121/187 C:\\Users\\user\\Desktop\\temp\\yolov5\\test_images\\images\\ppe_0761_jpg.rf.7550b26670a430905d46f6ae47c8b444.jpg: runs\\detect\\test_result3\\ppe_0761_jpg.rf.7550b26670a430905d46f6ae47c8b444.jpg runs\\detect\\test_result3\\labels\\ppe_0761_jpg.rf.7550b26670a430905d46f6ae47c8b444\n",
      "640x640 2 Goggless, 2 Helmets, 3 No gloves, Done. (0.541s)\n",
      "image 122/187 C:\\Users\\user\\Desktop\\temp\\yolov5\\test_images\\images\\ppe_0762_jpg.rf.e20f421a0e17352fea75ea5a97a37771.jpg: runs\\detect\\test_result3\\ppe_0762_jpg.rf.e20f421a0e17352fea75ea5a97a37771.jpg runs\\detect\\test_result3\\labels\\ppe_0762_jpg.rf.e20f421a0e17352fea75ea5a97a37771\n",
      "640x640 2 Helmets, 3 No gloves, Done. (0.569s)\n",
      "image 123/187 C:\\Users\\user\\Desktop\\temp\\yolov5\\test_images\\images\\ppe_0766_jpg.rf.542fc3d6ad48f8c0290a9037dce85159.jpg: runs\\detect\\test_result3\\ppe_0766_jpg.rf.542fc3d6ad48f8c0290a9037dce85159.jpg runs\\detect\\test_result3\\labels\\ppe_0766_jpg.rf.542fc3d6ad48f8c0290a9037dce85159\n",
      "640x640 3 Helmets, 2 No gloves, 3 Vests, Done. (0.582s)\n",
      "image 124/187 C:\\Users\\user\\Desktop\\temp\\yolov5\\test_images\\images\\ppe_0767_jpg.rf.d180b9eacffbda0d9d5d727cafbac574.jpg: runs\\detect\\test_result3\\ppe_0767_jpg.rf.d180b9eacffbda0d9d5d727cafbac574.jpg runs\\detect\\test_result3\\labels\\ppe_0767_jpg.rf.d180b9eacffbda0d9d5d727cafbac574\n",
      "640x640 6 Helmets, 3 No gloves, 3 Vests, Done. (0.575s)\n",
      "image 125/187 C:\\Users\\user\\Desktop\\temp\\yolov5\\test_images\\images\\ppe_0772_jpg.rf.87fe648ece6733b3505a6c9bcf316d4f.jpg: runs\\detect\\test_result3\\ppe_0772_jpg.rf.87fe648ece6733b3505a6c9bcf316d4f.jpg runs\\detect\\test_result3\\labels\\ppe_0772_jpg.rf.87fe648ece6733b3505a6c9bcf316d4f\n",
      "640x640 1 Goggles, 2 Helmets, 3 No gloves, 2 Vests, Done. (0.547s)\n",
      "image 126/187 C:\\Users\\user\\Desktop\\temp\\yolov5\\test_images\\images\\ppe_0789_jpg.rf.de8827f29d272ef4f52b5acb339b1c99.jpg: runs\\detect\\test_result3\\ppe_0789_jpg.rf.de8827f29d272ef4f52b5acb339b1c99.jpg runs\\detect\\test_result3\\labels\\ppe_0789_jpg.rf.de8827f29d272ef4f52b5acb339b1c99\n",
      "640x640 1 Glove, 5 Helmets, Done. (0.537s)\n",
      "image 127/187 C:\\Users\\user\\Desktop\\temp\\yolov5\\test_images\\images\\ppe_0796_jpg.rf.b597a497d4e5891f5e8afd9c08ab5b1c.jpg: runs\\detect\\test_result3\\ppe_0796_jpg.rf.b597a497d4e5891f5e8afd9c08ab5b1c.jpg runs\\detect\\test_result3\\labels\\ppe_0796_jpg.rf.b597a497d4e5891f5e8afd9c08ab5b1c\n",
      "640x640 1 Glove, 3 Helmets, Done. (0.558s)\n",
      "image 128/187 C:\\Users\\user\\Desktop\\temp\\yolov5\\test_images\\images\\ppe_0798_jpg.rf.47e0f3b3a746704b5dbc5d085f89f6a2.jpg: runs\\detect\\test_result3\\ppe_0798_jpg.rf.47e0f3b3a746704b5dbc5d085f89f6a2.jpg runs\\detect\\test_result3\\labels\\ppe_0798_jpg.rf.47e0f3b3a746704b5dbc5d085f89f6a2\n",
      "640x640 3 Helmets, 1 No glove, 2 Vests, Done. (0.557s)\n",
      "image 129/187 C:\\Users\\user\\Desktop\\temp\\yolov5\\test_images\\images\\ppe_0801_jpg.rf.76058da3cf133e1ad77855522e54670c.jpg: runs\\detect\\test_result3\\ppe_0801_jpg.rf.76058da3cf133e1ad77855522e54670c.jpg runs\\detect\\test_result3\\labels\\ppe_0801_jpg.rf.76058da3cf133e1ad77855522e54670c\n",
      "640x640 1 Helmet, Done. (0.559s)\n",
      "image 130/187 C:\\Users\\user\\Desktop\\temp\\yolov5\\test_images\\images\\ppe_0803_jpg.rf.972be9e93ad71b2bb92b0865ec03202f.jpg: runs\\detect\\test_result3\\ppe_0803_jpg.rf.972be9e93ad71b2bb92b0865ec03202f.jpg runs\\detect\\test_result3\\labels\\ppe_0803_jpg.rf.972be9e93ad71b2bb92b0865ec03202f\n",
      "640x640 1 Goggles, 8 Helmets, 3 No gloves, Done. (0.541s)\n",
      "image 131/187 C:\\Users\\user\\Desktop\\temp\\yolov5\\test_images\\images\\ppe_0814_jpg.rf.7befa33b4127237fb973aaa6c6b92213.jpg: runs\\detect\\test_result3\\ppe_0814_jpg.rf.7befa33b4127237fb973aaa6c6b92213.jpg runs\\detect\\test_result3\\labels\\ppe_0814_jpg.rf.7befa33b4127237fb973aaa6c6b92213\n",
      "640x640 5 Helmets, 1 No glove, 6 Vests, Done. (0.544s)\n",
      "image 132/187 C:\\Users\\user\\Desktop\\temp\\yolov5\\test_images\\images\\ppe_0824_jpg.rf.1f67db7c79629c9d02d6c6c9a2d6b0c5.jpg: runs\\detect\\test_result3\\ppe_0824_jpg.rf.1f67db7c79629c9d02d6c6c9a2d6b0c5.jpg runs\\detect\\test_result3\\labels\\ppe_0824_jpg.rf.1f67db7c79629c9d02d6c6c9a2d6b0c5\n",
      "640x640 1 Helmet, 2 No gloves, 1 Vest, Done. (0.564s)\n",
      "image 133/187 C:\\Users\\user\\Desktop\\temp\\yolov5\\test_images\\images\\ppe_0834_jpg.rf.cbaa9bf1d4990ede3851581601c66612.jpg: runs\\detect\\test_result3\\ppe_0834_jpg.rf.cbaa9bf1d4990ede3851581601c66612.jpg runs\\detect\\test_result3\\labels\\ppe_0834_jpg.rf.cbaa9bf1d4990ede3851581601c66612\n",
      "640x640 2 Helmets, 2 Vests, Done. (0.569s)\n",
      "image 134/187 C:\\Users\\user\\Desktop\\temp\\yolov5\\test_images\\images\\ppe_0841_jpg.rf.c3214743eaa7e6004f39cb5a379eac5c.jpg: runs\\detect\\test_result3\\ppe_0841_jpg.rf.c3214743eaa7e6004f39cb5a379eac5c.jpg runs\\detect\\test_result3\\labels\\ppe_0841_jpg.rf.c3214743eaa7e6004f39cb5a379eac5c\n",
      "640x640 3 Helmets, 1 Mask, 2 No gloves, 3 Vests, Done. (0.582s)\n",
      "image 135/187 C:\\Users\\user\\Desktop\\temp\\yolov5\\test_images\\images\\ppe_0852_jpg.rf.d0047169cfa56c2f8c5a179f2171c3d1.jpg: runs\\detect\\test_result3\\ppe_0852_jpg.rf.d0047169cfa56c2f8c5a179f2171c3d1.jpg runs\\detect\\test_result3\\labels\\ppe_0852_jpg.rf.d0047169cfa56c2f8c5a179f2171c3d1\n",
      "640x640 8 Helmets, 1 Vest, Done. (0.547s)\n",
      "image 136/187 C:\\Users\\user\\Desktop\\temp\\yolov5\\test_images\\images\\ppe_0854_jpg.rf.09272ceadd35b69cf9cfee9bb7c716e4.jpg: runs\\detect\\test_result3\\ppe_0854_jpg.rf.09272ceadd35b69cf9cfee9bb7c716e4.jpg runs\\detect\\test_result3\\labels\\ppe_0854_jpg.rf.09272ceadd35b69cf9cfee9bb7c716e4\n",
      "640x640 1 Glove, 2 Helmets, 1 Vest, Done. (0.587s)\n",
      "image 137/187 C:\\Users\\user\\Desktop\\temp\\yolov5\\test_images\\images\\ppe_0855_jpg.rf.3bce8071bc32d0af809c289a113f65bc.jpg: runs\\detect\\test_result3\\ppe_0855_jpg.rf.3bce8071bc32d0af809c289a113f65bc.jpg runs\\detect\\test_result3\\labels\\ppe_0855_jpg.rf.3bce8071bc32d0af809c289a113f65bc\n",
      "640x640 10 Helmets, 1 No glove, 3 Vests, Done. (0.560s)\n",
      "image 138/187 C:\\Users\\user\\Desktop\\temp\\yolov5\\test_images\\images\\ppe_0857_jpg.rf.3a264f4060e2b6c0ff200b7ba4f484f8.jpg: runs\\detect\\test_result3\\ppe_0857_jpg.rf.3a264f4060e2b6c0ff200b7ba4f484f8.jpg runs\\detect\\test_result3\\labels\\ppe_0857_jpg.rf.3a264f4060e2b6c0ff200b7ba4f484f8\n",
      "640x640 1 Glove, 7 Helmets, 2 No gloves, Done. (0.540s)\n",
      "image 139/187 C:\\Users\\user\\Desktop\\temp\\yolov5\\test_images\\images\\ppe_0879_jpg.rf.be10e7f33d99a4c215cd81c677d0cf5a.jpg: runs\\detect\\test_result3\\ppe_0879_jpg.rf.be10e7f33d99a4c215cd81c677d0cf5a.jpg runs\\detect\\test_result3\\labels\\ppe_0879_jpg.rf.be10e7f33d99a4c215cd81c677d0cf5a\n",
      "640x640 2 Goggless, 3 Helmets, 2 No gloves, 1 Vest, Done. (0.573s)\n",
      "image 140/187 C:\\Users\\user\\Desktop\\temp\\yolov5\\test_images\\images\\ppe_0894_jpg.rf.0e1bda5fdab430909fc9e2fc7e78c520.jpg: runs\\detect\\test_result3\\ppe_0894_jpg.rf.0e1bda5fdab430909fc9e2fc7e78c520.jpg runs\\detect\\test_result3\\labels\\ppe_0894_jpg.rf.0e1bda5fdab430909fc9e2fc7e78c520\n",
      "640x640 1 Glove, 2 Helmets, Done. (0.571s)\n",
      "image 141/187 C:\\Users\\user\\Desktop\\temp\\yolov5\\test_images\\images\\ppe_0899_jpg.rf.25a26896b1c14d56946fcfbde7ef6e95.jpg: runs\\detect\\test_result3\\ppe_0899_jpg.rf.25a26896b1c14d56946fcfbde7ef6e95.jpg runs\\detect\\test_result3\\labels\\ppe_0899_jpg.rf.25a26896b1c14d56946fcfbde7ef6e95\n",
      "640x640 6 Helmets, 1 No glove, 3 Vests, Done. (0.551s)\n",
      "image 142/187 C:\\Users\\user\\Desktop\\temp\\yolov5\\test_images\\images\\ppe_0903_jpg.rf.b13985ec6d9749dd13654e04acaccf37.jpg: runs\\detect\\test_result3\\ppe_0903_jpg.rf.b13985ec6d9749dd13654e04acaccf37.jpg runs\\detect\\test_result3\\labels\\ppe_0903_jpg.rf.b13985ec6d9749dd13654e04acaccf37\n",
      "640x640 1 Helmet, 1 Vest, Done. (0.541s)\n",
      "image 143/187 C:\\Users\\user\\Desktop\\temp\\yolov5\\test_images\\images\\ppe_0932_jpg.rf.4239acdd126a2f38764e5cb96ebed3d1.jpg: runs\\detect\\test_result3\\ppe_0932_jpg.rf.4239acdd126a2f38764e5cb96ebed3d1.jpg runs\\detect\\test_result3\\labels\\ppe_0932_jpg.rf.4239acdd126a2f38764e5cb96ebed3d1\n",
      "640x640 1 Helmet, Done. (0.523s)\n",
      "image 144/187 C:\\Users\\user\\Desktop\\temp\\yolov5\\test_images\\images\\ppe_0933_jpg.rf.641a781a5d152bd3685a6df1bd0bc41a.jpg: runs\\detect\\test_result3\\ppe_0933_jpg.rf.641a781a5d152bd3685a6df1bd0bc41a.jpg runs\\detect\\test_result3\\labels\\ppe_0933_jpg.rf.641a781a5d152bd3685a6df1bd0bc41a\n",
      "640x640 1 Glove, 1 Goggles, 5 Helmets, 1 No glove, 3 Vests, Done. (0.537s)\n",
      "image 145/187 C:\\Users\\user\\Desktop\\temp\\yolov5\\test_images\\images\\ppe_0940_jpg.rf.f703788b9a33f6ea9c549b98c6fe26e0.jpg: runs\\detect\\test_result3\\ppe_0940_jpg.rf.f703788b9a33f6ea9c549b98c6fe26e0.jpg runs\\detect\\test_result3\\labels\\ppe_0940_jpg.rf.f703788b9a33f6ea9c549b98c6fe26e0\n",
      "640x640 3 Helmets, 1 Vest, Done. (0.500s)\n",
      "image 146/187 C:\\Users\\user\\Desktop\\temp\\yolov5\\test_images\\images\\ppe_0975_jpg.rf.2e1ff1acf34595bdd21406066b0d8201.jpg: runs\\detect\\test_result3\\ppe_0975_jpg.rf.2e1ff1acf34595bdd21406066b0d8201.jpg runs\\detect\\test_result3\\labels\\ppe_0975_jpg.rf.2e1ff1acf34595bdd21406066b0d8201\n",
      "640x640 3 Helmets, 2 No gloves, Done. (0.538s)\n",
      "image 147/187 C:\\Users\\user\\Desktop\\temp\\yolov5\\test_images\\images\\ppe_0979_jpg.rf.8697f85b550453032948543a442a46d0.jpg: runs\\detect\\test_result3\\ppe_0979_jpg.rf.8697f85b550453032948543a442a46d0.jpg runs\\detect\\test_result3\\labels\\ppe_0979_jpg.rf.8697f85b550453032948543a442a46d0\n",
      "640x640 2 Helmets, 2 No gloves, Done. (0.526s)\n",
      "image 148/187 C:\\Users\\user\\Desktop\\temp\\yolov5\\test_images\\images\\ppe_0981_jpg.rf.ea6753498794a7fb8cd196f8092ed8fa.jpg: runs\\detect\\test_result3\\ppe_0981_jpg.rf.ea6753498794a7fb8cd196f8092ed8fa.jpg runs\\detect\\test_result3\\labels\\ppe_0981_jpg.rf.ea6753498794a7fb8cd196f8092ed8fa\n",
      "640x640 1 Goggles, 8 Helmets, 5 No gloves, 10 Vests, Done. (0.516s)\n",
      "image 149/187 C:\\Users\\user\\Desktop\\temp\\yolov5\\test_images\\images\\ppe_0985_jpg.rf.1ff3971b68a0458591dfadae46e202b3.jpg: runs\\detect\\test_result3\\ppe_0985_jpg.rf.1ff3971b68a0458591dfadae46e202b3.jpg runs\\detect\\test_result3\\labels\\ppe_0985_jpg.rf.1ff3971b68a0458591dfadae46e202b3\n",
      "640x640 1 Glove, 1 Goggles, 3 Helmets, 2 No gloves, 3 Vests, Done. (0.526s)\n",
      "image 150/187 C:\\Users\\user\\Desktop\\temp\\yolov5\\test_images\\images\\ppe_0991_jpg.rf.282e88e12d94de719a38a7e0a140ed1b.jpg: runs\\detect\\test_result3\\ppe_0991_jpg.rf.282e88e12d94de719a38a7e0a140ed1b.jpg runs\\detect\\test_result3\\labels\\ppe_0991_jpg.rf.282e88e12d94de719a38a7e0a140ed1b\n",
      "640x640 3 Helmets, 2 No gloves, 4 Vests, Done. (0.541s)\n",
      "image 151/187 C:\\Users\\user\\Desktop\\temp\\yolov5\\test_images\\images\\ppe_1039_jpg.rf.fe0cbff1915f5b1beb62cd029a1d7637.jpg: runs\\detect\\test_result3\\ppe_1039_jpg.rf.fe0cbff1915f5b1beb62cd029a1d7637.jpg runs\\detect\\test_result3\\labels\\ppe_1039_jpg.rf.fe0cbff1915f5b1beb62cd029a1d7637\n",
      "640x640 2 Helmets, 2 Vests, Done. (0.572s)\n",
      "image 152/187 C:\\Users\\user\\Desktop\\temp\\yolov5\\test_images\\images\\ppe_1041_jpg.rf.0c7e6f00fcf43ae7d4ba67c8be294c27.jpg: runs\\detect\\test_result3\\ppe_1041_jpg.rf.0c7e6f00fcf43ae7d4ba67c8be294c27.jpg runs\\detect\\test_result3\\labels\\ppe_1041_jpg.rf.0c7e6f00fcf43ae7d4ba67c8be294c27\n",
      "640x640 1 Helmet, Done. (0.560s)\n",
      "image 153/187 C:\\Users\\user\\Desktop\\temp\\yolov5\\test_images\\images\\ppe_1042_jpg.rf.60348190c8dad215573e33eee981e12a.jpg: runs\\detect\\test_result3\\ppe_1042_jpg.rf.60348190c8dad215573e33eee981e12a.jpg runs\\detect\\test_result3\\labels\\ppe_1042_jpg.rf.60348190c8dad215573e33eee981e12a\n",
      "640x640 1 Helmet, 2 Vests, Done. (0.557s)\n",
      "image 154/187 C:\\Users\\user\\Desktop\\temp\\yolov5\\test_images\\images\\ppe_1052_jpg.rf.02a6ee496278ceba93e1022021edda8a.jpg: runs\\detect\\test_result3\\ppe_1052_jpg.rf.02a6ee496278ceba93e1022021edda8a.jpg runs\\detect\\test_result3\\labels\\ppe_1052_jpg.rf.02a6ee496278ceba93e1022021edda8a\n",
      "640x640 1 Helmet, 2 No gloves, 1 Vest, Done. (0.567s)\n",
      "image 155/187 C:\\Users\\user\\Desktop\\temp\\yolov5\\test_images\\images\\ppe_1054_jpg.rf.d80055e7076e20ce42c4f51ba3978666.jpg: runs\\detect\\test_result3\\ppe_1054_jpg.rf.d80055e7076e20ce42c4f51ba3978666.jpg runs\\detect\\test_result3\\labels\\ppe_1054_jpg.rf.d80055e7076e20ce42c4f51ba3978666\n",
      "640x640 2 Helmets, 2 No gloves, 1 Vest, Done. (0.550s)\n",
      "image 156/187 C:\\Users\\user\\Desktop\\temp\\yolov5\\test_images\\images\\ppe_1061_jpg.rf.be51ffbd315f71a55a6b199eebc16abe.jpg: runs\\detect\\test_result3\\ppe_1061_jpg.rf.be51ffbd315f71a55a6b199eebc16abe.jpg runs\\detect\\test_result3\\labels\\ppe_1061_jpg.rf.be51ffbd315f71a55a6b199eebc16abe\n",
      "640x640 4 Helmets, Done. (0.567s)\n",
      "image 157/187 C:\\Users\\user\\Desktop\\temp\\yolov5\\test_images\\images\\ppe_1070_jpg.rf.f2b6a033699f5a45bee09ce10ddd3b89.jpg: runs\\detect\\test_result3\\ppe_1070_jpg.rf.f2b6a033699f5a45bee09ce10ddd3b89.jpg runs\\detect\\test_result3\\labels\\ppe_1070_jpg.rf.f2b6a033699f5a45bee09ce10ddd3b89\n",
      "640x640 2 Goggless, 2 Helmets, 2 No gloves, 3 Vests, Done. (0.533s)\n",
      "image 158/187 C:\\Users\\user\\Desktop\\temp\\yolov5\\test_images\\images\\ppe_1078_jpg.rf.c5730394663eaa24b819a869d2f80a9f.jpg: runs\\detect\\test_result3\\ppe_1078_jpg.rf.c5730394663eaa24b819a869d2f80a9f.jpg runs\\detect\\test_result3\\labels\\ppe_1078_jpg.rf.c5730394663eaa24b819a869d2f80a9f\n",
      "640x640 2 Helmets, Done. (0.507s)\n",
      "image 159/187 C:\\Users\\user\\Desktop\\temp\\yolov5\\test_images\\images\\ppe_1090_jpg.rf.71ecdac381658128cc5f35de6cab0647.jpg: runs\\detect\\test_result3\\ppe_1090_jpg.rf.71ecdac381658128cc5f35de6cab0647.jpg runs\\detect\\test_result3\\labels\\ppe_1090_jpg.rf.71ecdac381658128cc5f35de6cab0647\n",
      "640x640 4 Helmets, Done. (0.524s)\n",
      "image 160/187 C:\\Users\\user\\Desktop\\temp\\yolov5\\test_images\\images\\ppe_1094_jpg.rf.3d0274fd1589fda43bca2357a98f8246.jpg: runs\\detect\\test_result3\\ppe_1094_jpg.rf.3d0274fd1589fda43bca2357a98f8246.jpg runs\\detect\\test_result3\\labels\\ppe_1094_jpg.rf.3d0274fd1589fda43bca2357a98f8246\n",
      "640x640 4 Helmets, 1 Mask, 4 Vests, Done. (0.537s)\n",
      "image 161/187 C:\\Users\\user\\Desktop\\temp\\yolov5\\test_images\\images\\ppe_1100_jpg.rf.01493c0e323bb0285477e0a2278980f8.jpg: runs\\detect\\test_result3\\ppe_1100_jpg.rf.01493c0e323bb0285477e0a2278980f8.jpg runs\\detect\\test_result3\\labels\\ppe_1100_jpg.rf.01493c0e323bb0285477e0a2278980f8\n",
      "640x640 3 Helmets, Done. (0.543s)\n",
      "image 162/187 C:\\Users\\user\\Desktop\\temp\\yolov5\\test_images\\images\\ppe_1109_jpg.rf.e5b86c090288ecc950bceffae6eb0981.jpg: runs\\detect\\test_result3\\ppe_1109_jpg.rf.e5b86c090288ecc950bceffae6eb0981.jpg runs\\detect\\test_result3\\labels\\ppe_1109_jpg.rf.e5b86c090288ecc950bceffae6eb0981\n",
      "640x640 2 Helmets, Done. (0.567s)\n",
      "image 163/187 C:\\Users\\user\\Desktop\\temp\\yolov5\\test_images\\images\\ppe_1113_jpg.rf.b86e23836cdc6d59dd1fa612e414eed8.jpg: runs\\detect\\test_result3\\ppe_1113_jpg.rf.b86e23836cdc6d59dd1fa612e414eed8.jpg runs\\detect\\test_result3\\labels\\ppe_1113_jpg.rf.b86e23836cdc6d59dd1fa612e414eed8\n",
      "640x640 2 Helmets, Done. (1.059s)\n",
      "image 164/187 C:\\Users\\user\\Desktop\\temp\\yolov5\\test_images\\images\\ppe_1114_jpg.rf.9336c85e540db3ee24fff3d8b1817f43.jpg: runs\\detect\\test_result3\\ppe_1114_jpg.rf.9336c85e540db3ee24fff3d8b1817f43.jpg runs\\detect\\test_result3\\labels\\ppe_1114_jpg.rf.9336c85e540db3ee24fff3d8b1817f43\n",
      "640x640 8 Helmets, Done. (0.734s)\n",
      "image 165/187 C:\\Users\\user\\Desktop\\temp\\yolov5\\test_images\\images\\ppe_1129_jpg.rf.285f6ed99ba10ce12e0381142f99811d.jpg: runs\\detect\\test_result3\\ppe_1129_jpg.rf.285f6ed99ba10ce12e0381142f99811d.jpg runs\\detect\\test_result3\\labels\\ppe_1129_jpg.rf.285f6ed99ba10ce12e0381142f99811d\n",
      "640x640 4 Helmets, 1 No glove, 3 Vests, Done. (0.649s)\n",
      "image 166/187 C:\\Users\\user\\Desktop\\temp\\yolov5\\test_images\\images\\ppe_1133_jpg.rf.44b15406705732aa8896df5a3edd38ce.jpg: runs\\detect\\test_result3\\ppe_1133_jpg.rf.44b15406705732aa8896df5a3edd38ce.jpg runs\\detect\\test_result3\\labels\\ppe_1133_jpg.rf.44b15406705732aa8896df5a3edd38ce\n",
      "640x640 2 Gloves, 2 Helmets, 2 No gloves, Done. (0.670s)\n",
      "image 167/187 C:\\Users\\user\\Desktop\\temp\\yolov5\\test_images\\images\\ppe_1139_jpg.rf.0814bbcc09c86ec11e525161fd65a96f.jpg: runs\\detect\\test_result3\\ppe_1139_jpg.rf.0814bbcc09c86ec11e525161fd65a96f.jpg runs\\detect\\test_result3\\labels\\ppe_1139_jpg.rf.0814bbcc09c86ec11e525161fd65a96f\n",
      "640x640 3 Helmets, 2 No gloves, 3 Vests, Done. (0.929s)\n",
      "image 168/187 C:\\Users\\user\\Desktop\\temp\\yolov5\\test_images\\images\\ppe_1141_jpg.rf.0dd8ce54ddf63785888dedff481f3af5.jpg: runs\\detect\\test_result3\\ppe_1141_jpg.rf.0dd8ce54ddf63785888dedff481f3af5.jpg runs\\detect\\test_result3\\labels\\ppe_1141_jpg.rf.0dd8ce54ddf63785888dedff481f3af5\n",
      "640x640 1 Goggles, 1 Helmet, Done. (0.852s)\n",
      "image 169/187 C:\\Users\\user\\Desktop\\temp\\yolov5\\test_images\\images\\ppe_1144_jpg.rf.88b20b67a5872c7d068a481ac54e0592.jpg: runs\\detect\\test_result3\\ppe_1144_jpg.rf.88b20b67a5872c7d068a481ac54e0592.jpg runs\\detect\\test_result3\\labels\\ppe_1144_jpg.rf.88b20b67a5872c7d068a481ac54e0592\n",
      "640x640 1 Glove, 1 Helmet, Done. (0.538s)\n",
      "image 170/187 C:\\Users\\user\\Desktop\\temp\\yolov5\\test_images\\images\\ppe_1145_jpg.rf.18ce7f17c212a88bab4daad3496dd997.jpg: runs\\detect\\test_result3\\ppe_1145_jpg.rf.18ce7f17c212a88bab4daad3496dd997.jpg runs\\detect\\test_result3\\labels\\ppe_1145_jpg.rf.18ce7f17c212a88bab4daad3496dd997\n",
      "640x640 3 Helmets, Done. (0.569s)\n",
      "image 171/187 C:\\Users\\user\\Desktop\\temp\\yolov5\\test_images\\images\\ppe_1148_jpg.rf.ca45a44b8d245b9fbe19528898f82005.jpg: runs\\detect\\test_result3\\ppe_1148_jpg.rf.ca45a44b8d245b9fbe19528898f82005.jpg runs\\detect\\test_result3\\labels\\ppe_1148_jpg.rf.ca45a44b8d245b9fbe19528898f82005\n",
      "640x640 1 Glove, 2 Helmets, 1 No glove, 1 Vest, Done. (0.568s)\n",
      "image 172/187 C:\\Users\\user\\Desktop\\temp\\yolov5\\test_images\\images\\ppe_1151_jpg.rf.eb4c255d4cb25cc5a56d840733ed47ae.jpg: runs\\detect\\test_result3\\ppe_1151_jpg.rf.eb4c255d4cb25cc5a56d840733ed47ae.jpg runs\\detect\\test_result3\\labels\\ppe_1151_jpg.rf.eb4c255d4cb25cc5a56d840733ed47ae\n",
      "640x640 Done. (0.963s)\n",
      "image 173/187 C:\\Users\\user\\Desktop\\temp\\yolov5\\test_images\\images\\ppe_1152_jpg.rf.77ba57d9cd96d7cab59505cbb449044c.jpg: runs\\detect\\test_result3\\ppe_1152_jpg.rf.77ba57d9cd96d7cab59505cbb449044c.jpg runs\\detect\\test_result3\\labels\\ppe_1152_jpg.rf.77ba57d9cd96d7cab59505cbb449044c\n",
      "640x640 4 Helmets, 1 No glove, Done. (0.860s)\n",
      "image 174/187 C:\\Users\\user\\Desktop\\temp\\yolov5\\test_images\\images\\ppe_1153_jpg.rf.7e6f4f43293cb7483b56adfa522a485d.jpg: runs\\detect\\test_result3\\ppe_1153_jpg.rf.7e6f4f43293cb7483b56adfa522a485d.jpg runs\\detect\\test_result3\\labels\\ppe_1153_jpg.rf.7e6f4f43293cb7483b56adfa522a485d\n",
      "640x640 2 Gloves, 1 Helmet, 1 Mask, Done. (0.677s)\n",
      "image 175/187 C:\\Users\\user\\Desktop\\temp\\yolov5\\test_images\\images\\ppe_1159_jpg.rf.4c6ca88444d5982060250f7e744aee70.jpg: runs\\detect\\test_result3\\ppe_1159_jpg.rf.4c6ca88444d5982060250f7e744aee70.jpg runs\\detect\\test_result3\\labels\\ppe_1159_jpg.rf.4c6ca88444d5982060250f7e744aee70\n",
      "640x640 3 Helmets, Done. (0.659s)\n",
      "image 176/187 C:\\Users\\user\\Desktop\\temp\\yolov5\\test_images\\images\\ppe_1184_jpg.rf.0693744decb1f95191213f5b004f2312.jpg: runs\\detect\\test_result3\\ppe_1184_jpg.rf.0693744decb1f95191213f5b004f2312.jpg runs\\detect\\test_result3\\labels\\ppe_1184_jpg.rf.0693744decb1f95191213f5b004f2312\n",
      "640x640 2 Helmets, 2 Vests, Done. (0.885s)\n",
      "image 177/187 C:\\Users\\user\\Desktop\\temp\\yolov5\\test_images\\images\\ppe_1187_jpg.rf.19cb4b9439e54c8c697579fc095245ae.jpg: runs\\detect\\test_result3\\ppe_1187_jpg.rf.19cb4b9439e54c8c697579fc095245ae.jpg runs\\detect\\test_result3\\labels\\ppe_1187_jpg.rf.19cb4b9439e54c8c697579fc095245ae\n",
      "640x640 2 Helmets, Done. (0.979s)\n",
      "image 178/187 C:\\Users\\user\\Desktop\\temp\\yolov5\\test_images\\images\\ppe_1193_jpg.rf.11baf7df776f89d213d310af3bfba80f.jpg: runs\\detect\\test_result3\\ppe_1193_jpg.rf.11baf7df776f89d213d310af3bfba80f.jpg runs\\detect\\test_result3\\labels\\ppe_1193_jpg.rf.11baf7df776f89d213d310af3bfba80f\n",
      "640x640 1 Goggles, 5 Helmets, 1 No glove, 1 Vest, Done. (0.646s)\n",
      "image 179/187 C:\\Users\\user\\Desktop\\temp\\yolov5\\test_images\\images\\ppe_1205_jpg.rf.6aea1e836a51d6e6cbf17bcd64831f3d.jpg: runs\\detect\\test_result3\\ppe_1205_jpg.rf.6aea1e836a51d6e6cbf17bcd64831f3d.jpg runs\\detect\\test_result3\\labels\\ppe_1205_jpg.rf.6aea1e836a51d6e6cbf17bcd64831f3d\n",
      "640x640 1 Glove, 1 Helmet, Done. (0.653s)\n",
      "image 180/187 C:\\Users\\user\\Desktop\\temp\\yolov5\\test_images\\images\\ppe_1210_jpg.rf.f3f612e0327be5934adc94641daa1394.jpg: runs\\detect\\test_result3\\ppe_1210_jpg.rf.f3f612e0327be5934adc94641daa1394.jpg runs\\detect\\test_result3\\labels\\ppe_1210_jpg.rf.f3f612e0327be5934adc94641daa1394\n",
      "640x640 1 Helmet, 1 No glove, Done. (0.706s)\n",
      "image 181/187 C:\\Users\\user\\Desktop\\temp\\yolov5\\test_images\\images\\ppe_1214_jpg.rf.e0966e56078031aacfc4124e85cf8b0f.jpg: runs\\detect\\test_result3\\ppe_1214_jpg.rf.e0966e56078031aacfc4124e85cf8b0f.jpg runs\\detect\\test_result3\\labels\\ppe_1214_jpg.rf.e0966e56078031aacfc4124e85cf8b0f\n",
      "640x640 1 Glove, 1 Helmet, 1 Vest, Done. (1.464s)\n",
      "image 182/187 C:\\Users\\user\\Desktop\\temp\\yolov5\\test_images\\images\\ppe_1241_jpg.rf.687b767d5c05deafc94c5490f706af3e.jpg: runs\\detect\\test_result3\\ppe_1241_jpg.rf.687b767d5c05deafc94c5490f706af3e.jpg runs\\detect\\test_result3\\labels\\ppe_1241_jpg.rf.687b767d5c05deafc94c5490f706af3e\n",
      "640x640 1 Glove, 1 Goggles, 1 Helmet, Done. (0.718s)\n",
      "image 183/187 C:\\Users\\user\\Desktop\\temp\\yolov5\\test_images\\images\\ppe_1254_jpg.rf.c9b70d6abe4f99588e4eab42f800a395.jpg: runs\\detect\\test_result3\\ppe_1254_jpg.rf.c9b70d6abe4f99588e4eab42f800a395.jpg runs\\detect\\test_result3\\labels\\ppe_1254_jpg.rf.c9b70d6abe4f99588e4eab42f800a395\n",
      "640x640 1 Glove, 2 Goggless, 8 Helmets, 3 No gloves, Done. (0.713s)\n",
      "image 184/187 C:\\Users\\user\\Desktop\\temp\\yolov5\\test_images\\images\\ppe_1264_jpg.rf.f1c3c58900d4ea94779a2462c6360957.jpg: runs\\detect\\test_result3\\ppe_1264_jpg.rf.f1c3c58900d4ea94779a2462c6360957.jpg runs\\detect\\test_result3\\labels\\ppe_1264_jpg.rf.f1c3c58900d4ea94779a2462c6360957\n",
      "640x640 3 Helmets, Done. (0.840s)\n",
      "image 185/187 C:\\Users\\user\\Desktop\\temp\\yolov5\\test_images\\images\\ppe_1266_jpg.rf.3a99ee94bb90f530363922eb7303a273.jpg: runs\\detect\\test_result3\\ppe_1266_jpg.rf.3a99ee94bb90f530363922eb7303a273.jpg runs\\detect\\test_result3\\labels\\ppe_1266_jpg.rf.3a99ee94bb90f530363922eb7303a273\n",
      "640x640 1 Helmet, 1 Vest, Done. (1.511s)\n",
      "image 186/187 C:\\Users\\user\\Desktop\\temp\\yolov5\\test_images\\images\\ppe_1272_jpg.rf.5267593400cd605fac131122acc0f25c.jpg: runs\\detect\\test_result3\\ppe_1272_jpg.rf.5267593400cd605fac131122acc0f25c.jpg runs\\detect\\test_result3\\labels\\ppe_1272_jpg.rf.5267593400cd605fac131122acc0f25c\n",
      "640x640 1 Helmet, Done. (3.103s)\n",
      "image 187/187 C:\\Users\\user\\Desktop\\temp\\yolov5\\test_images\\images\\ppe_1295_jpg.rf.91c64c7a6e2111d7948ec75c1b6cd452.jpg: runs\\detect\\test_result3\\ppe_1295_jpg.rf.91c64c7a6e2111d7948ec75c1b6cd452.jpg runs\\detect\\test_result3\\labels\\ppe_1295_jpg.rf.91c64c7a6e2111d7948ec75c1b6cd452\n",
      "640x640 5 Helmets, Done. (1.389s)\n",
      "Results saved to runs\\detect\\test_result3\n",
      "184 labels saved to runs\\detect\\test_result3\\labels\n",
      "Done. (121.130s)\n"
     ]
    }
   ],
   "source": [
    "!python detect.py --weights detect_3.pt --img 640 --source 0 --name test_result"
   ]
  },
  {
   "cell_type": "code",
   "execution_count": 3,
   "metadata": {},
   "outputs": [
    {
     "name": "stderr",
     "output_type": "stream",
     "text": [
      "  File \"Test_Suite.py\", line 31\n",
      "    def\n",
      "      ^\n",
      "SyntaxError: invalid syntax\n"
     ]
    }
   ],
   "source": [
    "!python Test_Suite.py"
   ]
  },
  {
   "cell_type": "markdown",
   "metadata": {
    "id": "4qbaa3iEcrcE"
   },
   "source": [
    "Results are saved to `runs/detect`. A full list of available inference sources:\n",
    "<img src=\"https://user-images.githubusercontent.com/26833433/98274798-2b7a7a80-1f94-11eb-91a4-70c73593e26b.jpg\" width=\"900\"> "
   ]
  },
  {
   "cell_type": "markdown",
   "metadata": {
    "id": "0eq1SMWl6Sfn"
   },
   "source": [
    "# 2. Test\n",
    "Test a model on [COCO](https://cocodataset.org/#home) val or test-dev dataset to evaluate trained accuracy. Models are downloaded automatically from the [latest YOLOv5 release](https://github.com/ultralytics/yolov5/releases). To show results by class use the `--verbose` flag. Note that `pycocotools` metrics may be 1-2% better than the equivalent repo metrics, as is visible below, due to slight differences in mAP computation."
   ]
  },
  {
   "cell_type": "markdown",
   "metadata": {
    "id": "eyTZYGgRjnMc"
   },
   "source": [
    "## COCO val2017\n",
    "Download [COCO val 2017](https://github.com/ultralytics/yolov5/blob/74b34872fdf41941cddcf243951cdb090fbac17b/data/coco.yaml#L14) dataset (1GB - 5000 images), and test model accuracy."
   ]
  },
  {
   "cell_type": "code",
   "execution_count": null,
   "metadata": {
    "colab": {
     "base_uri": "https://localhost:8080/",
     "height": 65,
     "referenced_widgets": [
      "1f8e9b8ebded4175b2eaa9f75c3ceb00",
      "0a1246a73077468ab80e979cc0576cd2",
      "d327cde5a85a4a51bb8b1b3e9cf06c97",
      "d5ef1cb2cbed4b87b3c5d292ff2b0da6",
      "8d5dff8bca14435a88fa1814533acd85",
      "3d5136c19e7645ca9bc8f51ceffb2be1",
      "2919396dbd4b4c8e821d12bd28665d8a",
      "6feb16f2b2fa4021b1a271e1dd442d04"
     ]
    },
    "id": "WQPtK1QYVaD_",
    "outputId": "d6ace7c6-1be5-41ff-d607-1c716b88d298"
   },
   "outputs": [],
   "source": [
    "# Download COCO val2017\n",
    "torch.hub.download_url_to_file('https://github.com/ultralytics/yolov5/releases/download/v1.0/coco2017val.zip', 'tmp.zip')\n",
    "!unzip -q tmp.zip -d ../ && rm tmp.zip"
   ]
  },
  {
   "cell_type": "code",
   "execution_count": null,
   "metadata": {
    "colab": {
     "base_uri": "https://localhost:8080/"
    },
    "id": "X58w8JLpMnjH",
    "outputId": "cc25f70c-0a11-44f6-cc44-e92c5083488c",
    "scrolled": true
   },
   "outputs": [],
   "source": [
    "# Run YOLOv5x on COCO val2017\n",
    "!python test.py --weights detect_3.pt --data data.yaml --img 640 --iou 0.65"
   ]
  },
  {
   "cell_type": "markdown",
   "metadata": {
    "id": "rc_KbFk0juX2"
   },
   "source": [
    "## COCO test-dev2017\n",
    "Download [COCO test2017](https://github.com/ultralytics/yolov5/blob/74b34872fdf41941cddcf243951cdb090fbac17b/data/coco.yaml#L15) dataset (7GB - 40,000 images), to test model accuracy on test-dev set (20,000 images). Results are saved to a `*.json` file which can be submitted to the evaluation server at https://competitions.codalab.org/competitions/20794."
   ]
  },
  {
   "cell_type": "code",
   "execution_count": null,
   "metadata": {
    "id": "V0AJnSeCIHyJ"
   },
   "outputs": [],
   "source": [
    "# Download COCO test-dev2017\n",
    "torch.hub.download_url_to_file('https://github.com/ultralytics/yolov5/releases/download/v1.0/coco2017labels.zip', 'tmp.zip')\n",
    "!unzip -q tmp.zip -d ../ && rm tmp.zip  # unzip labels\n",
    "!f=\"test2017.zip\" && curl http://images.cocodataset.org/zips/$f -o $f && unzip -q $f && rm $f  # 7GB,  41k images\n",
    "%mv ./test2017 ./coco/images && mv ./coco ../  # move images to /coco and move /coco next to /yolov5"
   ]
  },
  {
   "cell_type": "code",
   "execution_count": null,
   "metadata": {
    "id": "29GJXAP_lPrt"
   },
   "outputs": [],
   "source": [
    "# Run YOLOv5s on COCO test-dev2017 using --task test\n",
    "!python test.py --weights yolov5s.pt --data coco.yaml --task test"
   ]
  },
  {
   "cell_type": "markdown",
   "metadata": {
    "id": "VUOiNLtMP5aG"
   },
   "source": [
    "# 3. Train\n",
    "\n",
    "Download [COCO128](https://www.kaggle.com/ultralytics/coco128), a small 128-image tutorial dataset, start tensorboard and train YOLOv5s from a pretrained checkpoint for 3 epochs (note actual training is typically much longer, around **300-1000 epochs**, depending on your dataset)."
   ]
  },
  {
   "cell_type": "code",
   "execution_count": null,
   "metadata": {
    "colab": {
     "base_uri": "https://localhost:8080/",
     "height": 65,
     "referenced_widgets": [
      "e6459e0bcee449b090fc9807672725bc",
      "c341e1d3bf3b40d1821ce392eb966c68",
      "660afee173694231a6dce3cd94df6cae",
      "261218485cef48df961519dde5edfcbe",
      "32736d503c06497abfae8c0421918255",
      "e257738711f54d5280c8393d9d3dce1c",
      "beb7a6fe34b840899bb79c062681696f",
      "e639132395d64d70b99d8b72c32f8fbb"
     ]
    },
    "id": "Knxi2ncxWffW",
    "outputId": "e8b7d5b3-a71e-4446-eec2-ad13419cf700"
   },
   "outputs": [],
   "source": [
    "# Download COCO128\n",
    "torch.hub.download_url_to_file('https://github.com/ultralytics/yolov5/releases/download/v1.0/coco128.zip', 'tmp.zip')\n",
    "!unzip -q tmp.zip -d ../ && rm tmp.zip"
   ]
  },
  {
   "cell_type": "markdown",
   "metadata": {
    "id": "_pOkGLv1dMqh"
   },
   "source": [
    "Train a YOLOv5s model on [COCO128](https://www.kaggle.com/ultralytics/coco128) with `--data coco128.yaml`, starting from pretrained `--weights yolov5s.pt`, or from randomly initialized `--weights '' --cfg yolov5s.yaml`. Models are downloaded automatically from the [latest YOLOv5 release](https://github.com/ultralytics/yolov5/releases), and **COCO, COCO128, and VOC datasets are downloaded automatically** on first use.\n",
    "\n",
    "All training results are saved to `runs/train/` with incrementing run directories, i.e. `runs/train/exp2`, `runs/train/exp3` etc.\n"
   ]
  },
  {
   "cell_type": "code",
   "execution_count": null,
   "metadata": {
    "id": "bOy5KI2ncnWd"
   },
   "outputs": [],
   "source": [
    "# Tensorboard (optional)\n",
    "%load_ext tensorboard\n",
    "%tensorboard --logdir runs/train"
   ]
  },
  {
   "cell_type": "code",
   "execution_count": null,
   "metadata": {
    "id": "2fLAV42oNb7M"
   },
   "outputs": [],
   "source": [
    "# Weights & Biases (optional)\n",
    "%pip install -q wandb  \n",
    "# wandb.login  # use 'wandb disabled' or 'wandb enabled' to disable or enable"
   ]
  },
  {
   "cell_type": "code",
   "execution_count": 1,
   "metadata": {},
   "outputs": [
    {
     "ename": "NameError",
     "evalue": "name 'wandb' is not defined",
     "output_type": "error",
     "traceback": [
      "\u001b[1;31m---------------------------------------------------------------------------\u001b[0m",
      "\u001b[1;31mNameError\u001b[0m                                 Traceback (most recent call last)",
      "\u001b[1;32m<ipython-input-1-6a51ec39db3e>\u001b[0m in \u001b[0;36m<module>\u001b[1;34m\u001b[0m\n\u001b[0;32m      1\u001b[0m \u001b[1;31m# Log in to your W&B account\u001b[0m\u001b[1;33m\u001b[0m\u001b[1;33m\u001b[0m\u001b[1;33m\u001b[0m\u001b[0m\n\u001b[1;32m----> 2\u001b[1;33m \u001b[0mwandb\u001b[0m\u001b[1;33m\u001b[0m\u001b[1;33m\u001b[0m\u001b[0m\n\u001b[0m",
      "\u001b[1;31mNameError\u001b[0m: name 'wandb' is not defined"
     ]
    }
   ],
   "source": [
    "# Log in to your W&B account\n",
    "wandb"
   ]
  },
  {
   "cell_type": "code",
   "execution_count": null,
   "metadata": {
    "colab": {
     "base_uri": "https://localhost:8080/"
    },
    "id": "1NcFxRcFdJ_O",
    "outputId": "38e51b29-2df4-4f00-cde8-5f6e4a34da9e",
    "scrolled": true
   },
   "outputs": [],
   "source": [
    "# Train YOLOv5s on COCO128 for 3 epochs\n",
    "!python train.py --img 640 --batch 16 --epochs 3 --data data.yaml --weights best.pt --nosave --cache"
   ]
  },
  {
   "cell_type": "markdown",
   "metadata": {
    "id": "15glLzbQx5u0"
   },
   "source": [
    "# 4. Visualize"
   ]
  },
  {
   "cell_type": "markdown",
   "metadata": {
    "id": "DLI1JmHU7B0l"
   },
   "source": [
    "## Weights & Biases Logging 🌟 NEW\n",
    "\n",
    "[Weights & Biases](https://www.wandb.com/) (W&B) is now integrated with YOLOv5 for real-time visualization and cloud logging of training runs. This allows for better run comparison and introspection, as well improved visibility and collaboration for teams. To enable W&B `pip install wandb`, and then train normally (you will be guided through setup on first use). \n",
    "\n",
    "During training you will see live updates at [https://wandb.ai/home](https://wandb.ai/home), and you can create and share detailed [Reports](https://wandb.ai/glenn-jocher/yolov5_tutorial/reports/YOLOv5-COCO128-Tutorial-Results--VmlldzozMDI5OTY) of your results. For more information see the [YOLOv5 Weights & Biases Tutorial](https://github.com/ultralytics/yolov5/issues/1289). \n",
    "\n",
    "<img src=\"https://user-images.githubusercontent.com/26833433/98184457-bd3da580-1f0a-11eb-8461-95d908a71893.jpg\" width=\"800\">"
   ]
  },
  {
   "cell_type": "markdown",
   "metadata": {
    "id": "-WPvRbS5Swl6"
   },
   "source": [
    "## Local Logging\n",
    "\n",
    "All results are logged by default to `runs/train`, with a new experiment directory created for each new training as `runs/train/exp2`, `runs/train/exp3`, etc. View train and test jpgs to see mosaics, labels, predictions and augmentation effects. Note a **Mosaic Dataloader** is used for training (shown below), a new concept developed by Ultralytics and first featured in [YOLOv4](https://arxiv.org/abs/2004.10934)."
   ]
  },
  {
   "cell_type": "code",
   "execution_count": null,
   "metadata": {
    "id": "riPdhraOTCO0"
   },
   "outputs": [],
   "source": [
    "Image(filename='runs/train/exp/train_batch0.jpg', width=800)  # train batch 0 mosaics and labels\n",
    "Image(filename='runs/train/exp/test_batch0_labels.jpg', width=800)  # test batch 0 labels\n",
    "Image(filename='runs/train/exp/test_batch0_pred.jpg', width=800)  # test batch 0 predictions"
   ]
  },
  {
   "cell_type": "markdown",
   "metadata": {
    "id": "OYG4WFEnTVrI"
   },
   "source": [
    "> <img src=\"https://user-images.githubusercontent.com/26833433/83667642-90fcb200-a583-11ea-8fa3-338bbf7da194.jpeg\" width=\"750\">  \n",
    "`train_batch0.jpg` shows train batch 0 mosaics and labels\n",
    "\n",
    "> <img src=\"https://user-images.githubusercontent.com/26833433/83667626-8c37fe00-a583-11ea-997b-0923fe59b29b.jpeg\" width=\"750\">  \n",
    "`test_batch0_labels.jpg` shows test batch 0 labels\n",
    "\n",
    "> <img src=\"https://user-images.githubusercontent.com/26833433/83667635-90641b80-a583-11ea-8075-606316cebb9c.jpeg\" width=\"750\">  \n",
    "`test_batch0_pred.jpg` shows test batch 0 _predictions_\n"
   ]
  },
  {
   "cell_type": "markdown",
   "metadata": {
    "id": "7KN5ghjE6ZWh"
   },
   "source": [
    "Training losses and performance metrics are also logged to [Tensorboard](https://www.tensorflow.org/tensorboard) and a custom `results.txt` logfile which is plotted as `results.png` (below) after training completes. Here we show YOLOv5s trained on COCO128 to 300 epochs, starting from scratch (blue), and from pretrained `--weights yolov5s.pt` (orange)."
   ]
  },
  {
   "cell_type": "code",
   "execution_count": null,
   "metadata": {
    "id": "MDznIqPF7nk3"
   },
   "outputs": [],
   "source": [
    "from utils.plots import plot_results \n",
    "plot_results(save_dir='runs/train/exp')  # plot all results*.txt as results.png\n",
    "Image(filename='runs/train/exp/results.png', width=800)"
   ]
  },
  {
   "cell_type": "markdown",
   "metadata": {
    "id": "lfrEegCSW3fK"
   },
   "source": [
    "<img src=\"https://user-images.githubusercontent.com/26833433/97808309-8182b180-1c66-11eb-8461-bffe1a79511d.png\" width=\"800\">\n"
   ]
  },
  {
   "cell_type": "markdown",
   "metadata": {
    "id": "Zelyeqbyt3GD"
   },
   "source": [
    "# Environments\n",
    "\n",
    "YOLOv5 may be run in any of the following up-to-date verified environments (with all dependencies including [CUDA](https://developer.nvidia.com/cuda)/[CUDNN](https://developer.nvidia.com/cudnn), [Python](https://www.python.org/) and [PyTorch](https://pytorch.org/) preinstalled):\n",
    "\n",
    "- **Google Colab and Kaggle** notebooks with free GPU: <a href=\"https://colab.research.google.com/github/ultralytics/yolov5/blob/master/tutorial.ipynb\"><img src=\"https://colab.research.google.com/assets/colab-badge.svg\" alt=\"Open In Colab\"></a> <a href=\"https://www.kaggle.com/ultralytics/yolov5\"><img src=\"https://kaggle.com/static/images/open-in-kaggle.svg\" alt=\"Open In Kaggle\"></a>\n",
    "- **Google Cloud** Deep Learning VM. See [GCP Quickstart Guide](https://github.com/ultralytics/yolov5/wiki/GCP-Quickstart)\n",
    "- **Amazon** Deep Learning AMI. See [AWS Quickstart Guide](https://github.com/ultralytics/yolov5/wiki/AWS-Quickstart)\n",
    "- **Docker Image**. See [Docker Quickstart Guide](https://github.com/ultralytics/yolov5/wiki/Docker-Quickstart) <a href=\"https://hub.docker.com/r/ultralytics/yolov5\"><img src=\"https://img.shields.io/docker/pulls/ultralytics/yolov5?logo=docker\" alt=\"Docker Pulls\"></a>\n"
   ]
  },
  {
   "cell_type": "markdown",
   "metadata": {
    "id": "6Qu7Iesl0p54"
   },
   "source": [
    "# Status\n",
    "\n",
    "![CI CPU testing](https://github.com/ultralytics/yolov5/workflows/CI%20CPU%20testing/badge.svg)\n",
    "\n",
    "If this badge is green, all [YOLOv5 GitHub Actions](https://github.com/ultralytics/yolov5/actions) Continuous Integration (CI) tests are currently passing. CI tests verify correct operation of YOLOv5 training ([train.py](https://github.com/ultralytics/yolov5/blob/master/train.py)), testing ([test.py](https://github.com/ultralytics/yolov5/blob/master/test.py)), inference ([detect.py](https://github.com/ultralytics/yolov5/blob/master/detect.py)) and export ([export.py](https://github.com/ultralytics/yolov5/blob/master/models/export.py)) on MacOS, Windows, and Ubuntu every 24 hours and on every commit.\n"
   ]
  },
  {
   "cell_type": "markdown",
   "metadata": {
    "id": "IEijrePND_2I"
   },
   "source": [
    "# Appendix\n",
    "\n",
    "Optional extras below. Unit tests validate repo functionality and should be run on any PRs submitted.\n"
   ]
  },
  {
   "cell_type": "code",
   "execution_count": null,
   "metadata": {
    "id": "gI6NoBev8Ib1"
   },
   "outputs": [],
   "source": [
    "# Re-clone repo\n",
    "%cd ..\n",
    "%rm -rf yolov5 && git clone https://github.com/ultralytics/yolov5\n",
    "%cd yolov5"
   ]
  },
  {
   "cell_type": "code",
   "execution_count": null,
   "metadata": {
    "id": "mcKoSIK2WSzj"
   },
   "outputs": [],
   "source": [
    "# Reproduce\n",
    "for x in 'yolov5s', 'yolov5m', 'yolov5l', 'yolov5x':\n",
    "  !python test.py --weights {x}.pt --data coco.yaml --img 640 --conf 0.25 --iou 0.45  # speed\n",
    "  !python test.py --weights {x}.pt --data coco.yaml --img 640 --conf 0.001 --iou 0.65  # mAP"
   ]
  },
  {
   "cell_type": "code",
   "execution_count": null,
   "metadata": {
    "id": "FGH0ZjkGjejy"
   },
   "outputs": [],
   "source": [
    "# Unit tests\n",
    "%%shell\n",
    "export PYTHONPATH=\"$PWD\"  # to run *.py. files in subdirectories\n",
    "\n",
    "rm -rf runs  # remove runs/\n",
    "for m in yolov5s; do  # models\n",
    "  python train.py --weights $m.pt --epochs 3 --img 320 --device 0  # train pretrained\n",
    "  python train.py --weights '' --cfg $m.yaml --epochs 3 --img 320 --device 0  # train scratch\n",
    "  for d in 0 cpu; do  # devices\n",
    "    python detect.py --weights $m.pt --device $d  # detect official\n",
    "    python detect.py --weights runs/train/exp/weights/best.pt --device $d  # detect custom\n",
    "    python test.py --weights $m.pt --device $d # test official\n",
    "    python test.py --weights runs/train/exp/weights/best.pt --device $d # test custom\n",
    "  done\n",
    "  python hubconf.py  # hub\n",
    "  python models/yolo.py --cfg $m.yaml  # inspect\n",
    "  python models/export.py --weights $m.pt --img 640 --batch 1  # export\n",
    "done"
   ]
  },
  {
   "cell_type": "code",
   "execution_count": null,
   "metadata": {
    "id": "gogI-kwi3Tye"
   },
   "outputs": [],
   "source": [
    "# Profile\n",
    "from utils.torch_utils import profile \n",
    "\n",
    "m1 = lambda x: x * torch.sigmoid(x)\n",
    "m2 = torch.nn.SiLU()\n",
    "profile(x=torch.randn(16, 3, 640, 640), ops=[m1, m2], n=100)"
   ]
  },
  {
   "cell_type": "code",
   "execution_count": null,
   "metadata": {
    "id": "RVRSOhEvUdb5"
   },
   "outputs": [],
   "source": [
    "# Evolve\n",
    "!python train.py --img 640 --batch 64 --epochs 100 --data coco128.yaml --weights yolov5s.pt --cache --noautoanchor --evolve\n",
    "!d=runs/train/evolve && cp evolve.* $d && zip -r evolve.zip $d && gsutil mv evolve.zip gs://bucket  # upload results (optional)"
   ]
  },
  {
   "cell_type": "code",
   "execution_count": null,
   "metadata": {
    "id": "BSgFCAcMbk1R"
   },
   "outputs": [],
   "source": [
    "# VOC\n",
    "for b, m in zip([64, 48, 32, 16], ['yolov5s', 'yolov5m', 'yolov5l', 'yolov5x']):  # zip(batch_size, model)\n",
    "  !python train.py --batch {b} --weights {m}.pt --data voc.yaml --epochs 50 --cache --img 512 --nosave --hyp hyp.finetune.yaml --project VOC --name {m}"
   ]
  }
 ],
 "metadata": {
  "accelerator": "GPU",
  "colab": {
   "collapsed_sections": [],
   "include_colab_link": true,
   "name": "YOLOv5 Tutorial",
   "provenance": [],
   "toc_visible": true
  },
  "kernelspec": {
   "display_name": "Python 3",
   "language": "python",
   "name": "python3"
  },
  "language_info": {
   "codemirror_mode": {
    "name": "ipython",
    "version": 3
   },
   "file_extension": ".py",
   "mimetype": "text/x-python",
   "name": "python",
   "nbconvert_exporter": "python",
   "pygments_lexer": "ipython3",
   "version": "3.8.8"
  },
  "widgets": {
   "application/vnd.jupyter.widget-state+json": {
    "0a1246a73077468ab80e979cc0576cd2": {
     "model_module": "@jupyter-widgets/base",
     "model_name": "LayoutModel",
     "state": {
      "_model_module": "@jupyter-widgets/base",
      "_model_module_version": "1.2.0",
      "_model_name": "LayoutModel",
      "_view_count": null,
      "_view_module": "@jupyter-widgets/base",
      "_view_module_version": "1.2.0",
      "_view_name": "LayoutView",
      "align_content": null,
      "align_items": null,
      "align_self": null,
      "border": null,
      "bottom": null,
      "display": null,
      "flex": null,
      "flex_flow": null,
      "grid_area": null,
      "grid_auto_columns": null,
      "grid_auto_flow": null,
      "grid_auto_rows": null,
      "grid_column": null,
      "grid_gap": null,
      "grid_row": null,
      "grid_template_areas": null,
      "grid_template_columns": null,
      "grid_template_rows": null,
      "height": null,
      "justify_content": null,
      "justify_items": null,
      "left": null,
      "margin": null,
      "max_height": null,
      "max_width": null,
      "min_height": null,
      "min_width": null,
      "object_fit": null,
      "object_position": null,
      "order": null,
      "overflow": null,
      "overflow_x": null,
      "overflow_y": null,
      "padding": null,
      "right": null,
      "top": null,
      "visibility": null,
      "width": null
     }
    },
    "1f8e9b8ebded4175b2eaa9f75c3ceb00": {
     "model_module": "@jupyter-widgets/controls",
     "model_name": "HBoxModel",
     "state": {
      "_dom_classes": [],
      "_model_module": "@jupyter-widgets/controls",
      "_model_module_version": "1.5.0",
      "_model_name": "HBoxModel",
      "_view_count": null,
      "_view_module": "@jupyter-widgets/controls",
      "_view_module_version": "1.5.0",
      "_view_name": "HBoxView",
      "box_style": "",
      "children": [
       "IPY_MODEL_d327cde5a85a4a51bb8b1b3e9cf06c97",
       "IPY_MODEL_d5ef1cb2cbed4b87b3c5d292ff2b0da6"
      ],
      "layout": "IPY_MODEL_0a1246a73077468ab80e979cc0576cd2"
     }
    },
    "261218485cef48df961519dde5edfcbe": {
     "model_module": "@jupyter-widgets/controls",
     "model_name": "HTMLModel",
     "state": {
      "_dom_classes": [],
      "_model_module": "@jupyter-widgets/controls",
      "_model_module_version": "1.5.0",
      "_model_name": "HTMLModel",
      "_view_count": null,
      "_view_module": "@jupyter-widgets/controls",
      "_view_module_version": "1.5.0",
      "_view_name": "HTMLView",
      "description": "",
      "description_tooltip": null,
      "layout": "IPY_MODEL_e639132395d64d70b99d8b72c32f8fbb",
      "placeholder": "​",
      "style": "IPY_MODEL_beb7a6fe34b840899bb79c062681696f",
      "value": " 21.1M/21.1M [00:00&lt;00:00, 33.5MB/s]"
     }
    },
    "2919396dbd4b4c8e821d12bd28665d8a": {
     "model_module": "@jupyter-widgets/controls",
     "model_name": "DescriptionStyleModel",
     "state": {
      "_model_module": "@jupyter-widgets/controls",
      "_model_module_version": "1.5.0",
      "_model_name": "DescriptionStyleModel",
      "_view_count": null,
      "_view_module": "@jupyter-widgets/base",
      "_view_module_version": "1.2.0",
      "_view_name": "StyleView",
      "description_width": ""
     }
    },
    "32736d503c06497abfae8c0421918255": {
     "model_module": "@jupyter-widgets/controls",
     "model_name": "ProgressStyleModel",
     "state": {
      "_model_module": "@jupyter-widgets/controls",
      "_model_module_version": "1.5.0",
      "_model_name": "ProgressStyleModel",
      "_view_count": null,
      "_view_module": "@jupyter-widgets/base",
      "_view_module_version": "1.2.0",
      "_view_name": "StyleView",
      "bar_color": null,
      "description_width": "initial"
     }
    },
    "3d5136c19e7645ca9bc8f51ceffb2be1": {
     "model_module": "@jupyter-widgets/base",
     "model_name": "LayoutModel",
     "state": {
      "_model_module": "@jupyter-widgets/base",
      "_model_module_version": "1.2.0",
      "_model_name": "LayoutModel",
      "_view_count": null,
      "_view_module": "@jupyter-widgets/base",
      "_view_module_version": "1.2.0",
      "_view_name": "LayoutView",
      "align_content": null,
      "align_items": null,
      "align_self": null,
      "border": null,
      "bottom": null,
      "display": null,
      "flex": null,
      "flex_flow": null,
      "grid_area": null,
      "grid_auto_columns": null,
      "grid_auto_flow": null,
      "grid_auto_rows": null,
      "grid_column": null,
      "grid_gap": null,
      "grid_row": null,
      "grid_template_areas": null,
      "grid_template_columns": null,
      "grid_template_rows": null,
      "height": null,
      "justify_content": null,
      "justify_items": null,
      "left": null,
      "margin": null,
      "max_height": null,
      "max_width": null,
      "min_height": null,
      "min_width": null,
      "object_fit": null,
      "object_position": null,
      "order": null,
      "overflow": null,
      "overflow_x": null,
      "overflow_y": null,
      "padding": null,
      "right": null,
      "top": null,
      "visibility": null,
      "width": null
     }
    },
    "660afee173694231a6dce3cd94df6cae": {
     "model_module": "@jupyter-widgets/controls",
     "model_name": "FloatProgressModel",
     "state": {
      "_dom_classes": [],
      "_model_module": "@jupyter-widgets/controls",
      "_model_module_version": "1.5.0",
      "_model_name": "FloatProgressModel",
      "_view_count": null,
      "_view_module": "@jupyter-widgets/controls",
      "_view_module_version": "1.5.0",
      "_view_name": "ProgressView",
      "bar_style": "success",
      "description": "100%",
      "description_tooltip": null,
      "layout": "IPY_MODEL_e257738711f54d5280c8393d9d3dce1c",
      "max": 22091032,
      "min": 0,
      "orientation": "horizontal",
      "style": "IPY_MODEL_32736d503c06497abfae8c0421918255",
      "value": 22091032
     }
    },
    "6feb16f2b2fa4021b1a271e1dd442d04": {
     "model_module": "@jupyter-widgets/base",
     "model_name": "LayoutModel",
     "state": {
      "_model_module": "@jupyter-widgets/base",
      "_model_module_version": "1.2.0",
      "_model_name": "LayoutModel",
      "_view_count": null,
      "_view_module": "@jupyter-widgets/base",
      "_view_module_version": "1.2.0",
      "_view_name": "LayoutView",
      "align_content": null,
      "align_items": null,
      "align_self": null,
      "border": null,
      "bottom": null,
      "display": null,
      "flex": null,
      "flex_flow": null,
      "grid_area": null,
      "grid_auto_columns": null,
      "grid_auto_flow": null,
      "grid_auto_rows": null,
      "grid_column": null,
      "grid_gap": null,
      "grid_row": null,
      "grid_template_areas": null,
      "grid_template_columns": null,
      "grid_template_rows": null,
      "height": null,
      "justify_content": null,
      "justify_items": null,
      "left": null,
      "margin": null,
      "max_height": null,
      "max_width": null,
      "min_height": null,
      "min_width": null,
      "object_fit": null,
      "object_position": null,
      "order": null,
      "overflow": null,
      "overflow_x": null,
      "overflow_y": null,
      "padding": null,
      "right": null,
      "top": null,
      "visibility": null,
      "width": null
     }
    },
    "8d5dff8bca14435a88fa1814533acd85": {
     "model_module": "@jupyter-widgets/controls",
     "model_name": "ProgressStyleModel",
     "state": {
      "_model_module": "@jupyter-widgets/controls",
      "_model_module_version": "1.5.0",
      "_model_name": "ProgressStyleModel",
      "_view_count": null,
      "_view_module": "@jupyter-widgets/base",
      "_view_module_version": "1.2.0",
      "_view_name": "StyleView",
      "bar_color": null,
      "description_width": "initial"
     }
    },
    "beb7a6fe34b840899bb79c062681696f": {
     "model_module": "@jupyter-widgets/controls",
     "model_name": "DescriptionStyleModel",
     "state": {
      "_model_module": "@jupyter-widgets/controls",
      "_model_module_version": "1.5.0",
      "_model_name": "DescriptionStyleModel",
      "_view_count": null,
      "_view_module": "@jupyter-widgets/base",
      "_view_module_version": "1.2.0",
      "_view_name": "StyleView",
      "description_width": ""
     }
    },
    "c341e1d3bf3b40d1821ce392eb966c68": {
     "model_module": "@jupyter-widgets/base",
     "model_name": "LayoutModel",
     "state": {
      "_model_module": "@jupyter-widgets/base",
      "_model_module_version": "1.2.0",
      "_model_name": "LayoutModel",
      "_view_count": null,
      "_view_module": "@jupyter-widgets/base",
      "_view_module_version": "1.2.0",
      "_view_name": "LayoutView",
      "align_content": null,
      "align_items": null,
      "align_self": null,
      "border": null,
      "bottom": null,
      "display": null,
      "flex": null,
      "flex_flow": null,
      "grid_area": null,
      "grid_auto_columns": null,
      "grid_auto_flow": null,
      "grid_auto_rows": null,
      "grid_column": null,
      "grid_gap": null,
      "grid_row": null,
      "grid_template_areas": null,
      "grid_template_columns": null,
      "grid_template_rows": null,
      "height": null,
      "justify_content": null,
      "justify_items": null,
      "left": null,
      "margin": null,
      "max_height": null,
      "max_width": null,
      "min_height": null,
      "min_width": null,
      "object_fit": null,
      "object_position": null,
      "order": null,
      "overflow": null,
      "overflow_x": null,
      "overflow_y": null,
      "padding": null,
      "right": null,
      "top": null,
      "visibility": null,
      "width": null
     }
    },
    "d327cde5a85a4a51bb8b1b3e9cf06c97": {
     "model_module": "@jupyter-widgets/controls",
     "model_name": "FloatProgressModel",
     "state": {
      "_dom_classes": [],
      "_model_module": "@jupyter-widgets/controls",
      "_model_module_version": "1.5.0",
      "_model_name": "FloatProgressModel",
      "_view_count": null,
      "_view_module": "@jupyter-widgets/controls",
      "_view_module_version": "1.5.0",
      "_view_name": "ProgressView",
      "bar_style": "success",
      "description": "100%",
      "description_tooltip": null,
      "layout": "IPY_MODEL_3d5136c19e7645ca9bc8f51ceffb2be1",
      "max": 819257867,
      "min": 0,
      "orientation": "horizontal",
      "style": "IPY_MODEL_8d5dff8bca14435a88fa1814533acd85",
      "value": 819257867
     }
    },
    "d5ef1cb2cbed4b87b3c5d292ff2b0da6": {
     "model_module": "@jupyter-widgets/controls",
     "model_name": "HTMLModel",
     "state": {
      "_dom_classes": [],
      "_model_module": "@jupyter-widgets/controls",
      "_model_module_version": "1.5.0",
      "_model_name": "HTMLModel",
      "_view_count": null,
      "_view_module": "@jupyter-widgets/controls",
      "_view_module_version": "1.5.0",
      "_view_name": "HTMLView",
      "description": "",
      "description_tooltip": null,
      "layout": "IPY_MODEL_6feb16f2b2fa4021b1a271e1dd442d04",
      "placeholder": "​",
      "style": "IPY_MODEL_2919396dbd4b4c8e821d12bd28665d8a",
      "value": " 781M/781M [00:12&lt;00:00, 65.5MB/s]"
     }
    },
    "e257738711f54d5280c8393d9d3dce1c": {
     "model_module": "@jupyter-widgets/base",
     "model_name": "LayoutModel",
     "state": {
      "_model_module": "@jupyter-widgets/base",
      "_model_module_version": "1.2.0",
      "_model_name": "LayoutModel",
      "_view_count": null,
      "_view_module": "@jupyter-widgets/base",
      "_view_module_version": "1.2.0",
      "_view_name": "LayoutView",
      "align_content": null,
      "align_items": null,
      "align_self": null,
      "border": null,
      "bottom": null,
      "display": null,
      "flex": null,
      "flex_flow": null,
      "grid_area": null,
      "grid_auto_columns": null,
      "grid_auto_flow": null,
      "grid_auto_rows": null,
      "grid_column": null,
      "grid_gap": null,
      "grid_row": null,
      "grid_template_areas": null,
      "grid_template_columns": null,
      "grid_template_rows": null,
      "height": null,
      "justify_content": null,
      "justify_items": null,
      "left": null,
      "margin": null,
      "max_height": null,
      "max_width": null,
      "min_height": null,
      "min_width": null,
      "object_fit": null,
      "object_position": null,
      "order": null,
      "overflow": null,
      "overflow_x": null,
      "overflow_y": null,
      "padding": null,
      "right": null,
      "top": null,
      "visibility": null,
      "width": null
     }
    },
    "e639132395d64d70b99d8b72c32f8fbb": {
     "model_module": "@jupyter-widgets/base",
     "model_name": "LayoutModel",
     "state": {
      "_model_module": "@jupyter-widgets/base",
      "_model_module_version": "1.2.0",
      "_model_name": "LayoutModel",
      "_view_count": null,
      "_view_module": "@jupyter-widgets/base",
      "_view_module_version": "1.2.0",
      "_view_name": "LayoutView",
      "align_content": null,
      "align_items": null,
      "align_self": null,
      "border": null,
      "bottom": null,
      "display": null,
      "flex": null,
      "flex_flow": null,
      "grid_area": null,
      "grid_auto_columns": null,
      "grid_auto_flow": null,
      "grid_auto_rows": null,
      "grid_column": null,
      "grid_gap": null,
      "grid_row": null,
      "grid_template_areas": null,
      "grid_template_columns": null,
      "grid_template_rows": null,
      "height": null,
      "justify_content": null,
      "justify_items": null,
      "left": null,
      "margin": null,
      "max_height": null,
      "max_width": null,
      "min_height": null,
      "min_width": null,
      "object_fit": null,
      "object_position": null,
      "order": null,
      "overflow": null,
      "overflow_x": null,
      "overflow_y": null,
      "padding": null,
      "right": null,
      "top": null,
      "visibility": null,
      "width": null
     }
    },
    "e6459e0bcee449b090fc9807672725bc": {
     "model_module": "@jupyter-widgets/controls",
     "model_name": "HBoxModel",
     "state": {
      "_dom_classes": [],
      "_model_module": "@jupyter-widgets/controls",
      "_model_module_version": "1.5.0",
      "_model_name": "HBoxModel",
      "_view_count": null,
      "_view_module": "@jupyter-widgets/controls",
      "_view_module_version": "1.5.0",
      "_view_name": "HBoxView",
      "box_style": "",
      "children": [
       "IPY_MODEL_660afee173694231a6dce3cd94df6cae",
       "IPY_MODEL_261218485cef48df961519dde5edfcbe"
      ],
      "layout": "IPY_MODEL_c341e1d3bf3b40d1821ce392eb966c68"
     }
    }
   }
  }
 },
 "nbformat": 4,
 "nbformat_minor": 1
}
